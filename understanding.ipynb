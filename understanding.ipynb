{
 "cells": [
  {
   "cell_type": "code",
   "execution_count": 1,
   "metadata": {},
   "outputs": [],
   "source": [
    "import os\n",
    "import numpy as np\n",
    "import pandas as pd\n",
    "import matplotlib.pyplot as plt\n",
    "import tqdm\n",
    "import json\n",
    "import glob\n",
    "from numpyencoder import NumpyEncoder\n",
    "import re"
   ]
  },
  {
   "cell_type": "code",
   "execution_count": 2,
   "metadata": {},
   "outputs": [],
   "source": [
    "PATH=\"Dataset\"\n",
    "METADATA= glob.glob(f\"{PATH}/**/**.json\")"
   ]
  },
  {
   "cell_type": "code",
   "execution_count": 3,
   "metadata": {},
   "outputs": [],
   "source": [
    "def save_meta_data(file_name,dict_file):\n",
    "    with open(f'{file_name}.json', 'w') as fp:\n",
    "        json.dump(dict_file, fp,  indent=4,cls=NumpyEncoder)\n",
    "\n",
    "def read_meta_data (path):\n",
    "    with open(path, 'r') as j:\n",
    "        contents = json.loads(j.read())\n",
    "        return contents"
   ]
  },
  {
   "cell_type": "code",
   "execution_count": 274,
   "metadata": {},
   "outputs": [],
   "source": [
    "\"\"\"\n",
    "Uncomment me for problem  T_316000_233500_NE_T_316000_233500_SW, T_315500_234500_SE\n",
    "\"\"\"\n",
    "#TODO \n",
    "# + Perbaikin code sehingga dapat ditaruh pada running awal.\n",
    "# + Dan dapat dimanipulasi lebih lanjut\n",
    "\n",
    "buff = glob.glob(f\"{PATH}/T_315500_234500_SE/**.txt\")\n",
    "# np.savetxt(\"backup_buff.txt\",buff,fmt=\"%s\")\n",
    "data = np.array([i.split(\"/\") for i in buff if \"building\" in i or \"buidling\" in i])\n",
    "new= data[:,-1].copy()\n",
    "for i,_ in enumerate(new):\n",
    "    name = new[i].split(\"_\")\n",
    "    if \".txt\" in name[1]:\n",
    "        buff_name = name[1]\n",
    "        buff_name = buff_name.split(\".\")\n",
    "        buff_name[0] = buff_name[0].zfill(3)\n",
    "        name[1] = \".\".join(buff)\n",
    "        # print(name[1])\n",
    "    else :\n",
    "        name[1]=name[1].zfill(3)\n",
    "    name[1]= \"_\".join(name[1])\n",
    "index = data[:,-1]==new\n",
    "index= np.where(index==False)[0]\n",
    "data[:,-1]=new.copy()\n",
    "new_data =np.array([\"/\".join(i) for i in data])\n",
    "np.savetxt(\"backup_index.txt\",index,fmt=\"%d\")\n",
    "for i in index:\n",
    "    os.rename(buff[i],new_data[i])\n",
    "METADATA_buff= read_meta_data(f'{PATH}/T_315500_234500_SE/meta_data.json')\n",
    "for i in index:\n",
    "    try:\n",
    "        data_edited= METADATA_buff.pop(buff[i].split(\"/\")[-1][:-4])\n",
    "    except:\n",
    "        continue\n",
    "    list_new_data=new_data[i].split(\"/\")\n",
    "    METADATA_buff[list_new_data[-1][:-4]]={\n",
    "                                            \"path\":\"/\".join(list_new_data[1:]),\n",
    "                                            \"jumlah_point\":data_edited[\"jumlah_point\"]\n",
    "                                            }\n",
    "save_meta_data(f'{PATH}/T_315500_234500_SE/meta_data',METADATA_buff)"
   ]
  },
  {
   "cell_type": "code",
   "execution_count": 268,
   "metadata": {},
   "outputs": [
    {
     "data": {
      "text/plain": [
       "'Dataset/T_316000_233500_NE_T_316000_233500_SW/building_Dataset/T_316000_233500_NE_T'"
      ]
     },
     "execution_count": 268,
     "metadata": {},
     "output_type": "execute_result"
    }
   ],
   "source": [
    "new_data[i]"
   ]
  },
  {
   "cell_type": "code",
   "execution_count": 15,
   "metadata": {},
   "outputs": [],
   "source": [
    "# #FIXME\n",
    "# # PERBAIKAN COUNTING UNTUK PERINSTANCE SAJA.\n",
    "# # MASUKAN DATA KEDALAM SATU INSTANCE.\n",
    "\n",
    "\n",
    "# def get_points_per_class(meta_data=METADATA,is_save=True,is_return=False):\n",
    "#     dict_meta_data = {}\n",
    "#     # indexing by unique minor id\n",
    "#     for md in meta_data:\n",
    "#         list_data=[]\n",
    "#         with open(md,\"r\") as f:\n",
    "#             meta= json.loads(f.read())\n",
    "#         for data in meta :\n",
    "#             list_name = data.split(\"_\")\n",
    "#             if len(list_name)>1:\n",
    "#                 name = list_name[0]\n",
    "#                 try:\n",
    "#                     id = int(list_name[1])    \n",
    "#                 except:\n",
    "#                     id = int(list_name[2])      \n",
    "#             else: \n",
    "#                 name = list_name[0]\n",
    "#                 id = 1\n",
    "#             list_data.append([name,id,int(meta[data][\"jumlah_point\"])])\n",
    "#         dict_meta_data[md.split(\"/\")[1]]= np.array(list_data)\n",
    "#     dict_folder_data={}\n",
    "#     for df in list(dict_meta_data.keys()):\n",
    "#         array_meta_data= dict_meta_data[df]\n",
    "#         dict_data ={}\n",
    "#         id_class= np.unique(array_meta_data[:,0])\n",
    "#         for ic in id_class:\n",
    "#             buff_array_meta_data = array_meta_data[np.where(array_meta_data[:,0]==ic)]\n",
    "#             unique = np.unique(buff_array_meta_data[:,1])\n",
    "#             dl =[]\n",
    "#             for u in unique:\n",
    "#                 array_unique_meta_data= buff_array_meta_data[np.where(buff_array_meta_data[:,1]==u)]\n",
    "#                 dl.append([u,np.sum(array_unique_meta_data[:,-1].astype(\"int32\"))])\n",
    "#             dict_data[ic]=dl\n",
    "#         dict_folder_data[df]=dict_data\n",
    "#     if is_save:\n",
    "#         save_meta_data(\"points_per_class\",dict_folder_data)\n",
    "#     if not is_return:\n",
    "#         return None\n",
    "#     return dict_folder_data\n",
    "# # get_points_per_class()"
   ]
  },
  {
   "cell_type": "code",
   "execution_count": 6,
   "metadata": {},
   "outputs": [],
   "source": [
    "# c_dir = read_meta_data(\"points_per_class.json\")\n",
    "# all_data= {}\n",
    "# dir_name = list(c_dir.keys())\n",
    "# for i in range(len(c_dir.keys())):\n",
    "#     for id in list(c_dir[dir_name[i]].keys()):\n",
    "#         data = np.array(c_dir[dir_name[i]][id])[:,1].astype(\"int32\")\n",
    "#         count, hist = np.histogram(np.array(c_dir[dir_name[i]][id])[:,1].astype(\"int32\"),bins=20)\n",
    "#         c_dir[dir_name[i]][id] = [count, hist]\n",
    "#         try:\n",
    "#            all_data[id.lower()] = np.append(all_data[id.lower()],data)\n",
    "#         except:\n",
    "#             all_data[id.lower()]=data"
   ]
  },
  {
   "cell_type": "code",
   "execution_count": 7,
   "metadata": {},
   "outputs": [
    {
     "data": {
      "text/plain": [
       "array([108], dtype=int32)"
      ]
     },
     "execution_count": 7,
     "metadata": {},
     "output_type": "execute_result"
    }
   ],
   "source": [
    "# all_data[\"building\"] = np.append(all_data[\"buidling\"],data)\n",
    "# all_data[\"undefined\"] = np.append(all_data[\"undifined\"],data)\n",
    "# all_data.pop('undifined', None)\n",
    "# all_data.pop('buidling', None)\n"
   ]
  },
  {
   "cell_type": "code",
   "execution_count": null,
   "metadata": {},
   "outputs": [],
   "source": [
    "# import matplotlib\n",
    "# import matplotlib.pyplot as plt\n",
    "# matplotlib.rcParams.update({'font.size': 22})\n",
    "# plt.rcParams[\"figure.figsize\"] = (40,20)\n",
    "# label = list(all_data.keys())[:4]\n",
    "# for i in label:\n",
    "#     ax = plt.hist(all_data[i],bins=30)\n",
    "#     plt.title(i.upper())\n",
    "#     plt.show()\n",
    "#     # autolabel(ax[0])"
   ]
  },
  {
   "cell_type": "code",
   "execution_count": 12,
   "metadata": {},
   "outputs": [],
   "source": []
  },
  {
   "cell_type": "code",
   "execution_count": 276,
   "metadata": {},
   "outputs": [
    {
     "name": "stderr",
     "output_type": "stream",
     "text": [
      "100%|██████████| 13/13 [00:00<00:00, 15.38it/s]\n"
     ]
    }
   ],
   "source": [
    "\n",
    "def get_list_per_instace(str_name ,file_list,Area,dict_file):\n",
    "    result_dict = {}\n",
    "    id_ns = np.unique(np.array([b.split(\"_\")[1] for b in dict_file],dtype=\"int16\"))\n",
    "    zf = 3 if Area ==  \"T_316000_233500_NE_T_316000_233500_SW\" or Area==\"T_315500_234500_SE\" else 2\n",
    "    for idn in id_ns :\n",
    "        r = re.compile(f\"{str_name}_{str(idn).zfill(zf)}\")\n",
    "        result_dict[f\"{str_name}_{str(idn).zfill(zf)}\"] = list(filter(r.match, file_list)) \n",
    "    return result_dict\n",
    "\n",
    "for i,_ in tqdm.tqdm(enumerate(METADATA),total=len(METADATA)):\n",
    "    Area = METADATA[i].split(\"/\")[1]\n",
    "    md = read_meta_data(METADATA[i])\n",
    "    file_names = md.keys()\n",
    "    building,ground,undefined,vegetation=[],[],[],[]\n",
    "    label = set([i.split(\"_\")[0] for i in file_names])\n",
    "    for fn in file_names:\n",
    "        if 'building' in fn.lower() or \"buidling\" in fn.lower():\n",
    "            building.append(fn)\n",
    "        if 'ground' in fn.lower():\n",
    "            ground.append(fn)\n",
    "        if 'undefined' in fn.lower() or \"undifined\" in fn.lower() or \"undefined\" in fn.lower() or 'Undefined' in fn.lower():\n",
    "            undefined.append(fn)\n",
    "        if 'vegetation'in fn.lower():\n",
    "            vegetation.append(fn)\n",
    "    dict_area={\n",
    "        \"building\":get_list_per_instace(str_name = \"building\",file_list = building,dict_file=building,Area=Area),\n",
    "        \"vegetation\":vegetation,\n",
    "        \"ground\":ground,\n",
    "        \"undefined\":undefined\n",
    "        }\n",
    "    save_meta_data(f\"map_ins_{Area}\",dict_area)\n",
    "\n",
    "MAPTOINST = glob.glob(\"map_ins**.json\")\n"
   ]
  },
  {
   "cell_type": "code",
   "execution_count": 9,
   "metadata": {},
   "outputs": [
    {
     "name": "stdout",
     "output_type": "stream",
     "text": [
      "Jupyter environment detected. Enabling Open3D WebVisualizer.\n",
      "[Open3D INFO] WebRTC GUI backend enabled.\n",
      "[Open3D INFO] WebRTCWindowSystem: HTTP handshake server disabled.\n"
     ]
    }
   ],
   "source": [
    "import open3d as o3d\n",
    "# pcd = o3d.io.read_point_cloud(\"test.txt\",format='xyzrgb')\n"
   ]
  },
  {
   "cell_type": "code",
   "execution_count": 279,
   "metadata": {},
   "outputs": [],
   "source": [
    "def maping_meta_data(class_name,map_data,meta_data):\n",
    "    inst_id = {}\n",
    "    try:\n",
    "        for count,key in enumerate(map_data[class_name]):\n",
    "            try:\n",
    "                k_split = key.split(\"_\")\n",
    "                if len(k_split)==3:\n",
    "                    _,sub_class,key_id = k_split\n",
    "                else :\n",
    "                    sub_class,key_id[:-4] = k_split\n",
    "            except:\n",
    "                sub_class,key_id=key,0\n",
    "                \n",
    "        inst_id[str(count).zfill(3)]={\n",
    "            \"total_point\": meta_data[key][\"jumlah_point\"],\n",
    "            \"path\": meta_data[key][\"path\"],\n",
    "            \"sub_class\": sub_class,\n",
    "            \"id\": str(int(key_id)-1).zfill(3)\n",
    "            }\n",
    "    except Exception as e:\n",
    "        print(class_name)\n",
    "        print(meta_data[class_name])\n",
    "        inst_id[\"000\"]={\n",
    "            \"total_point\": meta_data[class_name][\"jumlah_point\"],\n",
    "            \"path\": meta_data[class_name][\"path\"],\n",
    "            \"sub_class\": \"000\",\n",
    "            \"id\": \"000\"\n",
    "            }\n",
    "    return inst_id\n",
    "    \n",
    "def map_to_inst(map_data_json,meta_data_json):\n",
    "    map_data = read_meta_data(map_data_json)\n",
    "    meta_data= read_meta_data(meta_data_json)\n",
    "    for k in map_data.keys():\n",
    "        if k == \"building\":\n",
    "            inst_id_building = {}\n",
    "            list_build_id= list(map_data[k].keys())\n",
    "            for id_b in list_build_id:\n",
    "                id_ins = str(int(id_b.split(\"_\")[-1])-1).zfill(3)\n",
    "                total_point = sum([meta_data[i][\"jumlah_point\"] for i in map_data[list(map_data.keys())[0]][id_b]])\n",
    "                list_all_txt = [meta_data[i][\"path\"] for i in map_data[list(map_data.keys())[0]][id_b]]\n",
    "                inst_id_building[id_ins]={\n",
    "                    \"total_point\":total_point,\n",
    "                    \"path\":list_all_txt\n",
    "                    }\n",
    "        elif k==\"vegetation\" :\n",
    "            inst_id_vegetation = maping_meta_data(\"vegetation\",map_data,meta_data)\n",
    "        elif k==\"ground\" :\n",
    "            inst_id_ground = maping_meta_data(\"ground\",map_data,meta_data)\n",
    "        else :\n",
    "            inst_id_undefined = maping_meta_data(\"undefined\",map_data,meta_data)\n",
    "    return [inst_id_building,inst_id_vegetation,inst_id_ground,inst_id_undefined]"
   ]
  },
  {
   "cell_type": "code",
   "execution_count": 280,
   "metadata": {},
   "outputs": [
    {
     "ename": "KeyError",
     "evalue": "'total_point'",
     "output_type": "error",
     "traceback": [
      "\u001b[0;31m---------------------------------------------------------------------------\u001b[0m",
      "\u001b[0;31mKeyError\u001b[0m                                  Traceback (most recent call last)",
      "\u001b[1;32m/media/nmhlog/Backup File/kuliah_v2/DublinCityAll/GOINGTOTHESIS/understanding.ipynb Cell 14'\u001b[0m in \u001b[0;36m<module>\u001b[0;34m\u001b[0m\n\u001b[1;32m      <a href='vscode-notebook-cell:/media/nmhlog/Backup%20File/kuliah_v2/DublinCityAll/GOINGTOTHESIS/understanding.ipynb#ch0000012?line=0'>1</a>\u001b[0m \u001b[39mfor\u001b[39;00m i,_ \u001b[39min\u001b[39;00m \u001b[39menumerate\u001b[39m(METADATA):\n\u001b[1;32m      <a href='vscode-notebook-cell:/media/nmhlog/Backup%20File/kuliah_v2/DublinCityAll/GOINGTOTHESIS/understanding.ipynb#ch0000012?line=1'>2</a>\u001b[0m     area\u001b[39m=\u001b[39mMETADATA[i]\u001b[39m.\u001b[39msplit(\u001b[39m\"\u001b[39m\u001b[39m/\u001b[39m\u001b[39m\"\u001b[39m)[\u001b[39m1\u001b[39m]\n\u001b[0;32m----> <a href='vscode-notebook-cell:/media/nmhlog/Backup%20File/kuliah_v2/DublinCityAll/GOINGTOTHESIS/understanding.ipynb#ch0000012?line=2'>3</a>\u001b[0m     ins \u001b[39m=\u001b[39m map_to_inst(\u001b[39mf\u001b[39;49m\u001b[39m\"\u001b[39;49m\u001b[39mmap_ins_\u001b[39;49m\u001b[39m{\u001b[39;49;00marea\u001b[39m}\u001b[39;49;00m\u001b[39m.json\u001b[39;49m\u001b[39m\"\u001b[39;49m,METADATA[i])\n\u001b[1;32m      <a href='vscode-notebook-cell:/media/nmhlog/Backup%20File/kuliah_v2/DublinCityAll/GOINGTOTHESIS/understanding.ipynb#ch0000012?line=4'>5</a>\u001b[0m     save_meta_data(\u001b[39mf\u001b[39m\u001b[39m\"\u001b[39m\u001b[39mmap_ins_\u001b[39m\u001b[39m{\u001b[39;00marea\u001b[39m}\u001b[39;00m\u001b[39m\"\u001b[39m,{\u001b[39m\"\u001b[39m\u001b[39mbuilding\u001b[39m\u001b[39m\"\u001b[39m:ins[\u001b[39m0\u001b[39m],\u001b[39m\"\u001b[39m\u001b[39mvegetation\u001b[39m\u001b[39m\"\u001b[39m:ins[\u001b[39m1\u001b[39m],\u001b[39m\"\u001b[39m\u001b[39mground\u001b[39m\u001b[39m\"\u001b[39m:ins[\u001b[39m2\u001b[39m],\u001b[39m'\u001b[39m\u001b[39mundefined\u001b[39m\u001b[39m'\u001b[39m:ins[\u001b[39m3\u001b[39m]})\n",
      "\u001b[1;32m/media/nmhlog/Backup File/kuliah_v2/DublinCityAll/GOINGTOTHESIS/understanding.ipynb Cell 13'\u001b[0m in \u001b[0;36mmap_to_inst\u001b[0;34m(map_data_json, meta_data_json)\u001b[0m\n\u001b[1;32m     <a href='vscode-notebook-cell:/media/nmhlog/Backup%20File/kuliah_v2/DublinCityAll/GOINGTOTHESIS/understanding.ipynb#ch0000023?line=37'>38</a>\u001b[0m \u001b[39mfor\u001b[39;00m id_b \u001b[39min\u001b[39;00m list_build_id:\n\u001b[1;32m     <a href='vscode-notebook-cell:/media/nmhlog/Backup%20File/kuliah_v2/DublinCityAll/GOINGTOTHESIS/understanding.ipynb#ch0000023?line=38'>39</a>\u001b[0m     id_ins \u001b[39m=\u001b[39m \u001b[39mstr\u001b[39m(\u001b[39mint\u001b[39m(id_b\u001b[39m.\u001b[39msplit(\u001b[39m\"\u001b[39m\u001b[39m_\u001b[39m\u001b[39m\"\u001b[39m)[\u001b[39m-\u001b[39m\u001b[39m1\u001b[39m])\u001b[39m-\u001b[39m\u001b[39m1\u001b[39m)\u001b[39m.\u001b[39mzfill(\u001b[39m3\u001b[39m)\n\u001b[0;32m---> <a href='vscode-notebook-cell:/media/nmhlog/Backup%20File/kuliah_v2/DublinCityAll/GOINGTOTHESIS/understanding.ipynb#ch0000023?line=39'>40</a>\u001b[0m     total_point \u001b[39m=\u001b[39m \u001b[39msum\u001b[39m([meta_data[i][\u001b[39m\"\u001b[39m\u001b[39mjumlah_point\u001b[39m\u001b[39m\"\u001b[39m] \u001b[39mfor\u001b[39;00m i \u001b[39min\u001b[39;00m map_data[\u001b[39mlist\u001b[39m(map_data\u001b[39m.\u001b[39mkeys())[\u001b[39m0\u001b[39m]][id_b]])\n\u001b[1;32m     <a href='vscode-notebook-cell:/media/nmhlog/Backup%20File/kuliah_v2/DublinCityAll/GOINGTOTHESIS/understanding.ipynb#ch0000023?line=40'>41</a>\u001b[0m     list_all_txt \u001b[39m=\u001b[39m [meta_data[i][\u001b[39m\"\u001b[39m\u001b[39mpath\u001b[39m\u001b[39m\"\u001b[39m] \u001b[39mfor\u001b[39;00m i \u001b[39min\u001b[39;00m map_data[\u001b[39mlist\u001b[39m(map_data\u001b[39m.\u001b[39mkeys())[\u001b[39m0\u001b[39m]][id_b]]\n\u001b[1;32m     <a href='vscode-notebook-cell:/media/nmhlog/Backup%20File/kuliah_v2/DublinCityAll/GOINGTOTHESIS/understanding.ipynb#ch0000023?line=41'>42</a>\u001b[0m     inst_id_building[id_ins]\u001b[39m=\u001b[39m{\n\u001b[1;32m     <a href='vscode-notebook-cell:/media/nmhlog/Backup%20File/kuliah_v2/DublinCityAll/GOINGTOTHESIS/understanding.ipynb#ch0000023?line=42'>43</a>\u001b[0m         \u001b[39m\"\u001b[39m\u001b[39mtotal_point\u001b[39m\u001b[39m\"\u001b[39m:total_point,\n\u001b[1;32m     <a href='vscode-notebook-cell:/media/nmhlog/Backup%20File/kuliah_v2/DublinCityAll/GOINGTOTHESIS/understanding.ipynb#ch0000023?line=43'>44</a>\u001b[0m         \u001b[39m\"\u001b[39m\u001b[39mpath\u001b[39m\u001b[39m\"\u001b[39m:list_all_txt\n\u001b[1;32m     <a href='vscode-notebook-cell:/media/nmhlog/Backup%20File/kuliah_v2/DublinCityAll/GOINGTOTHESIS/understanding.ipynb#ch0000023?line=44'>45</a>\u001b[0m         }\n",
      "\u001b[1;32m/media/nmhlog/Backup File/kuliah_v2/DublinCityAll/GOINGTOTHESIS/understanding.ipynb Cell 13'\u001b[0m in \u001b[0;36m<listcomp>\u001b[0;34m(.0)\u001b[0m\n\u001b[1;32m     <a href='vscode-notebook-cell:/media/nmhlog/Backup%20File/kuliah_v2/DublinCityAll/GOINGTOTHESIS/understanding.ipynb#ch0000023?line=37'>38</a>\u001b[0m \u001b[39mfor\u001b[39;00m id_b \u001b[39min\u001b[39;00m list_build_id:\n\u001b[1;32m     <a href='vscode-notebook-cell:/media/nmhlog/Backup%20File/kuliah_v2/DublinCityAll/GOINGTOTHESIS/understanding.ipynb#ch0000023?line=38'>39</a>\u001b[0m     id_ins \u001b[39m=\u001b[39m \u001b[39mstr\u001b[39m(\u001b[39mint\u001b[39m(id_b\u001b[39m.\u001b[39msplit(\u001b[39m\"\u001b[39m\u001b[39m_\u001b[39m\u001b[39m\"\u001b[39m)[\u001b[39m-\u001b[39m\u001b[39m1\u001b[39m])\u001b[39m-\u001b[39m\u001b[39m1\u001b[39m)\u001b[39m.\u001b[39mzfill(\u001b[39m3\u001b[39m)\n\u001b[0;32m---> <a href='vscode-notebook-cell:/media/nmhlog/Backup%20File/kuliah_v2/DublinCityAll/GOINGTOTHESIS/understanding.ipynb#ch0000023?line=39'>40</a>\u001b[0m     total_point \u001b[39m=\u001b[39m \u001b[39msum\u001b[39m([meta_data[i][\u001b[39m\"\u001b[39m\u001b[39mjumlah_point\u001b[39m\u001b[39m\"\u001b[39m] \u001b[39mfor\u001b[39;00m i \u001b[39min\u001b[39;00m map_data[\u001b[39mlist\u001b[39m(map_data\u001b[39m.\u001b[39mkeys())[\u001b[39m0\u001b[39m]][id_b]])\n\u001b[1;32m     <a href='vscode-notebook-cell:/media/nmhlog/Backup%20File/kuliah_v2/DublinCityAll/GOINGTOTHESIS/understanding.ipynb#ch0000023?line=40'>41</a>\u001b[0m     list_all_txt \u001b[39m=\u001b[39m [meta_data[i][\u001b[39m\"\u001b[39m\u001b[39mpath\u001b[39m\u001b[39m\"\u001b[39m] \u001b[39mfor\u001b[39;00m i \u001b[39min\u001b[39;00m map_data[\u001b[39mlist\u001b[39m(map_data\u001b[39m.\u001b[39mkeys())[\u001b[39m0\u001b[39m]][id_b]]\n\u001b[1;32m     <a href='vscode-notebook-cell:/media/nmhlog/Backup%20File/kuliah_v2/DublinCityAll/GOINGTOTHESIS/understanding.ipynb#ch0000023?line=41'>42</a>\u001b[0m     inst_id_building[id_ins]\u001b[39m=\u001b[39m{\n\u001b[1;32m     <a href='vscode-notebook-cell:/media/nmhlog/Backup%20File/kuliah_v2/DublinCityAll/GOINGTOTHESIS/understanding.ipynb#ch0000023?line=42'>43</a>\u001b[0m         \u001b[39m\"\u001b[39m\u001b[39mtotal_point\u001b[39m\u001b[39m\"\u001b[39m:total_point,\n\u001b[1;32m     <a href='vscode-notebook-cell:/media/nmhlog/Backup%20File/kuliah_v2/DublinCityAll/GOINGTOTHESIS/understanding.ipynb#ch0000023?line=43'>44</a>\u001b[0m         \u001b[39m\"\u001b[39m\u001b[39mpath\u001b[39m\u001b[39m\"\u001b[39m:list_all_txt\n\u001b[1;32m     <a href='vscode-notebook-cell:/media/nmhlog/Backup%20File/kuliah_v2/DublinCityAll/GOINGTOTHESIS/understanding.ipynb#ch0000023?line=44'>45</a>\u001b[0m         }\n",
      "\u001b[0;31mKeyError\u001b[0m: 'total_point'"
     ]
    }
   ],
   "source": [
    "for i,_ in enumerate(METADATA):\n",
    "    area=METADATA[i].split(\"/\")[1]\n",
    "    ins = map_to_inst(f\"map_ins_{area}.json\",METADATA[i])\n",
    "    \n",
    "    save_meta_data(f\"map_ins_{area}\",{\"building\":ins[0],\"vegetation\":ins[1],\"ground\":ins[2],'undefined':ins[3]})"
   ]
  },
  {
   "cell_type": "code",
   "execution_count": 84,
   "metadata": {},
   "outputs": [],
   "source": [
    "import matplotlib\n",
    "import matplotlib.pyplot as plt\n",
    "matplotlib.rcParams.update({'font.size': 22})\n",
    "plt.rcParams[\"figure.figsize\"] = (40,20)"
   ]
  },
  {
   "cell_type": "code",
   "execution_count": 92,
   "metadata": {},
   "outputs": [],
   "source": [
    "def autolabel(rects):\n",
    "    \"\"\"Attach a text label above each bar in *rects*, displaying its height.\"\"\"\n",
    "    for rect in rects:\n",
    "        height = rect.get_height()\n",
    "        ax.annotate('{:.2f}'.format(height),\n",
    "                    xy=(rect.get_x() + rect.get_width() / 2, height),\n",
    "                    xytext=(0, 3),  # 3 points vertical offset\n",
    "                    textcoords=\"offset points\",\n",
    "                    ha='center', va='bottom')"
   ]
  },
  {
   "cell_type": "code",
   "execution_count": 94,
   "metadata": {},
   "outputs": [
    {
     "data": {
      "image/png": "[encoded data removed]",
      "text/plain": [
       "<Figure size 1080x720 with 1 Axes>"
      ]
     },
     "metadata": {
      "needs_background": "light"
     },
     "output_type": "display_data"
    }
   ],
   "source": [
    "fig, ax = plt.subplots(figsize=(15,10))\n"
   ]
  },
  {
   "cell_type": "code",
   "execution_count": 93,
   "metadata": {},
   "outputs": [
    {
     "ename": "AttributeError",
     "evalue": "'numpy.ndarray' object has no attribute 'get_height'",
     "output_type": "error",
     "traceback": [
      "\u001b[0;31m---------------------------------------------------------------------------\u001b[0m",
      "\u001b[0;31mAttributeError\u001b[0m                            Traceback (most recent call last)",
      "\u001b[1;32m/media/nmhlog/Backup File/kuliah_v2/DublinCityAll/GOINGTOTHESIS/understanding.ipynb Cell 18'\u001b[0m in \u001b[0;36m<module>\u001b[0;34m\u001b[0m\n\u001b[0;32m----> <a href='vscode-notebook-cell:/media/nmhlog/Backup%20File/kuliah_v2/DublinCityAll/GOINGTOTHESIS/understanding.ipynb#ch0000047?line=0'>1</a>\u001b[0m autolabel(ax)\n",
      "\u001b[1;32m/media/nmhlog/Backup File/kuliah_v2/DublinCityAll/GOINGTOTHESIS/understanding.ipynb Cell 17'\u001b[0m in \u001b[0;36mautolabel\u001b[0;34m(rects)\u001b[0m\n\u001b[1;32m      <a href='vscode-notebook-cell:/media/nmhlog/Backup%20File/kuliah_v2/DublinCityAll/GOINGTOTHESIS/understanding.ipynb#ch0000046?line=1'>2</a>\u001b[0m \u001b[39m\"\"\"Attach a text label above each bar in *rects*, displaying its height.\"\"\"\u001b[39;00m\n\u001b[1;32m      <a href='vscode-notebook-cell:/media/nmhlog/Backup%20File/kuliah_v2/DublinCityAll/GOINGTOTHESIS/understanding.ipynb#ch0000046?line=2'>3</a>\u001b[0m \u001b[39mfor\u001b[39;00m rect \u001b[39min\u001b[39;00m rects:\n\u001b[0;32m----> <a href='vscode-notebook-cell:/media/nmhlog/Backup%20File/kuliah_v2/DublinCityAll/GOINGTOTHESIS/understanding.ipynb#ch0000046?line=3'>4</a>\u001b[0m     height \u001b[39m=\u001b[39m rect\u001b[39m.\u001b[39;49mget_height()\n\u001b[1;32m      <a href='vscode-notebook-cell:/media/nmhlog/Backup%20File/kuliah_v2/DublinCityAll/GOINGTOTHESIS/understanding.ipynb#ch0000046?line=4'>5</a>\u001b[0m     ax\u001b[39m.\u001b[39mannotate(\u001b[39m'\u001b[39m\u001b[39m{:.2f}\u001b[39;00m\u001b[39m'\u001b[39m\u001b[39m.\u001b[39mformat(height),\n\u001b[1;32m      <a href='vscode-notebook-cell:/media/nmhlog/Backup%20File/kuliah_v2/DublinCityAll/GOINGTOTHESIS/understanding.ipynb#ch0000046?line=5'>6</a>\u001b[0m                 xy\u001b[39m=\u001b[39m(rect\u001b[39m.\u001b[39mget_x() \u001b[39m+\u001b[39m rect\u001b[39m.\u001b[39mget_width() \u001b[39m/\u001b[39m \u001b[39m2\u001b[39m, height),\n\u001b[1;32m      <a href='vscode-notebook-cell:/media/nmhlog/Backup%20File/kuliah_v2/DublinCityAll/GOINGTOTHESIS/understanding.ipynb#ch0000046?line=6'>7</a>\u001b[0m                 xytext\u001b[39m=\u001b[39m(\u001b[39m0\u001b[39m, \u001b[39m3\u001b[39m),  \u001b[39m# 3 points vertical offset\u001b[39;00m\n\u001b[1;32m      <a href='vscode-notebook-cell:/media/nmhlog/Backup%20File/kuliah_v2/DublinCityAll/GOINGTOTHESIS/understanding.ipynb#ch0000046?line=7'>8</a>\u001b[0m                 textcoords\u001b[39m=\u001b[39m\u001b[39m\"\u001b[39m\u001b[39moffset points\u001b[39m\u001b[39m\"\u001b[39m,\n\u001b[1;32m      <a href='vscode-notebook-cell:/media/nmhlog/Backup%20File/kuliah_v2/DublinCityAll/GOINGTOTHESIS/understanding.ipynb#ch0000046?line=8'>9</a>\u001b[0m                 ha\u001b[39m=\u001b[39m\u001b[39m'\u001b[39m\u001b[39mcenter\u001b[39m\u001b[39m'\u001b[39m, va\u001b[39m=\u001b[39m\u001b[39m'\u001b[39m\u001b[39mbottom\u001b[39m\u001b[39m'\u001b[39m)\n",
      "\u001b[0;31mAttributeError\u001b[0m: 'numpy.ndarray' object has no attribute 'get_height'"
     ]
    }
   ],
   "source": [
    "plt.annotate()"
   ]
  },
  {
   "cell_type": "code",
   "execution_count": 95,
   "metadata": {},
   "outputs": [
    {
     "ename": "AttributeError",
     "evalue": "'numpy.ndarray' object has no attribute 'get_height'",
     "output_type": "error",
     "traceback": [
      "\u001b[0;31m---------------------------------------------------------------------------\u001b[0m",
      "\u001b[0;31mAttributeError\u001b[0m                            Traceback (most recent call last)",
      "\u001b[1;32m/media/nmhlog/Backup File/kuliah_v2/DublinCityAll/GOINGTOTHESIS/understanding.ipynb Cell 20'\u001b[0m in \u001b[0;36m<module>\u001b[0;34m\u001b[0m\n\u001b[1;32m      <a href='vscode-notebook-cell:/media/nmhlog/Backup%20File/kuliah_v2/DublinCityAll/GOINGTOTHESIS/understanding.ipynb#ch0000044?line=0'>1</a>\u001b[0m rct \u001b[39m=\u001b[39m ax\u001b[39m.\u001b[39mhist(building_indices,bins\u001b[39m=\u001b[39m\u001b[39m30\u001b[39m)\n\u001b[0;32m----> <a href='vscode-notebook-cell:/media/nmhlog/Backup%20File/kuliah_v2/DublinCityAll/GOINGTOTHESIS/understanding.ipynb#ch0000044?line=1'>2</a>\u001b[0m autolabel(rct)\n",
      "\u001b[1;32m/media/nmhlog/Backup File/kuliah_v2/DublinCityAll/GOINGTOTHESIS/understanding.ipynb Cell 17'\u001b[0m in \u001b[0;36mautolabel\u001b[0;34m(rects)\u001b[0m\n\u001b[1;32m      <a href='vscode-notebook-cell:/media/nmhlog/Backup%20File/kuliah_v2/DublinCityAll/GOINGTOTHESIS/understanding.ipynb#ch0000046?line=1'>2</a>\u001b[0m \u001b[39m\"\"\"Attach a text label above each bar in *rects*, displaying its height.\"\"\"\u001b[39;00m\n\u001b[1;32m      <a href='vscode-notebook-cell:/media/nmhlog/Backup%20File/kuliah_v2/DublinCityAll/GOINGTOTHESIS/understanding.ipynb#ch0000046?line=2'>3</a>\u001b[0m \u001b[39mfor\u001b[39;00m rect \u001b[39min\u001b[39;00m rects:\n\u001b[0;32m----> <a href='vscode-notebook-cell:/media/nmhlog/Backup%20File/kuliah_v2/DublinCityAll/GOINGTOTHESIS/understanding.ipynb#ch0000046?line=3'>4</a>\u001b[0m     height \u001b[39m=\u001b[39m rect\u001b[39m.\u001b[39;49mget_height()\n\u001b[1;32m      <a href='vscode-notebook-cell:/media/nmhlog/Backup%20File/kuliah_v2/DublinCityAll/GOINGTOTHESIS/understanding.ipynb#ch0000046?line=4'>5</a>\u001b[0m     ax\u001b[39m.\u001b[39mannotate(\u001b[39m'\u001b[39m\u001b[39m{:.2f}\u001b[39;00m\u001b[39m'\u001b[39m\u001b[39m.\u001b[39mformat(height),\n\u001b[1;32m      <a href='vscode-notebook-cell:/media/nmhlog/Backup%20File/kuliah_v2/DublinCityAll/GOINGTOTHESIS/understanding.ipynb#ch0000046?line=5'>6</a>\u001b[0m                 xy\u001b[39m=\u001b[39m(rect\u001b[39m.\u001b[39mget_x() \u001b[39m+\u001b[39m rect\u001b[39m.\u001b[39mget_width() \u001b[39m/\u001b[39m \u001b[39m2\u001b[39m, height),\n\u001b[1;32m      <a href='vscode-notebook-cell:/media/nmhlog/Backup%20File/kuliah_v2/DublinCityAll/GOINGTOTHESIS/understanding.ipynb#ch0000046?line=6'>7</a>\u001b[0m                 xytext\u001b[39m=\u001b[39m(\u001b[39m0\u001b[39m, \u001b[39m3\u001b[39m),  \u001b[39m# 3 points vertical offset\u001b[39;00m\n\u001b[1;32m      <a href='vscode-notebook-cell:/media/nmhlog/Backup%20File/kuliah_v2/DublinCityAll/GOINGTOTHESIS/understanding.ipynb#ch0000046?line=7'>8</a>\u001b[0m                 textcoords\u001b[39m=\u001b[39m\u001b[39m\"\u001b[39m\u001b[39moffset points\u001b[39m\u001b[39m\"\u001b[39m,\n\u001b[1;32m      <a href='vscode-notebook-cell:/media/nmhlog/Backup%20File/kuliah_v2/DublinCityAll/GOINGTOTHESIS/understanding.ipynb#ch0000046?line=8'>9</a>\u001b[0m                 ha\u001b[39m=\u001b[39m\u001b[39m'\u001b[39m\u001b[39mcenter\u001b[39m\u001b[39m'\u001b[39m, va\u001b[39m=\u001b[39m\u001b[39m'\u001b[39m\u001b[39mbottom\u001b[39m\u001b[39m'\u001b[39m)\n",
      "\u001b[0;31mAttributeError\u001b[0m: 'numpy.ndarray' object has no attribute 'get_height'"
     ]
    }
   ],
   "source": [
    "rct = ax.hist(building_indices,bins=30)\n",
    "autolabel(rct)"
   ]
  },
  {
   "cell_type": "code",
   "execution_count": 96,
   "metadata": {},
   "outputs": [],
   "source": [
    "def label_densityHist(ax, n, bins, x=4, y=0.01, r=2, **kwargs):\n",
    "        \"\"\"\n",
    "        Add labels,relative value of bin, to each bin in a density histogram .\n",
    "        :param ax: Object axe of matplotlib\n",
    "                The axis to plot.\n",
    "        :param n: list, array of int, float\n",
    "                The values of the histogram bins.\n",
    "        :param bins: list, array of int, float\n",
    "                The edges of the bins.\n",
    "        :param x: int, float\n",
    "                Related the x position of the bin labels. The higher, the lower the value on the x-axis.\n",
    "                Default: 4\n",
    "        :param y: int, float\n",
    "                Related the y position of the bin labels. The higher, the greater the value on the y-axis.\n",
    "                Default: 0.01\n",
    "        :param r: int\n",
    "                Number of decimal places.\n",
    "                Default: 2\n",
    "        :param **kwargs: Text properties in matplotlib\n",
    "        :return: None\n",
    "\n",
    "\n",
    "        Example\n",
    "\n",
    "        import matplotlib.pyplot as plt\n",
    "        import numpy as np\n",
    "\n",
    "        dados = np.random.randn(100)\n",
    "\n",
    "        axe = plt.gca()\n",
    "        n, bins, _ = axe.hist(x=dados, edgecolor='black')\n",
    "        label_densityHist(axe,n, bins)\n",
    "        plt.show()\n",
    "\n",
    "        Example:\n",
    "        import matplotlib.pyplot as plt\n",
    "        import numpy as np\n",
    "\n",
    "\n",
    "        dados = np.random.randn(100)\n",
    "\n",
    "        axe = plt.gca()\n",
    "        n, bins, _ = axe.hist(x=dados, edgecolor='black')\n",
    "        label_densityHist(axe,n, bins, x=6, fontsize='large')\n",
    "        plt.show()\n",
    "\n",
    "\n",
    "        Reference:\n",
    "        [1]https://matplotlib.org/3.1.1/api/text_api.html#matplotlib.text.Text\n",
    "\n",
    "        \"\"\"\n",
    "\n",
    "        k = []\n",
    "        # calculate the relative frequency of each bin\n",
    "        for i in range(0,len(n)):\n",
    "                k.append((bins[i+1]-bins[i])*n[i])\n",
    "\n",
    "                # rounded\n",
    "                k = around(k,r); #print(k)\n",
    "\n",
    "                # plot the label/text to each bin\n",
    "                for i in range(0, len(n)):\n",
    "                        x_pos = (bins[i + 1] - bins[i]) / x + bins[i]\n",
    "                        y_pos = n[i] + (n[i] * y)\n",
    "                        label = str(k[i]) # relative frequency of each bin\n",
    "                        ax.text(x_pos, y_pos, label, kwargs)"
   ]
  },
  {
   "cell_type": "code",
   "execution_count": null,
   "metadata": {},
   "outputs": [],
   "source": [
    "label = list(data[\"building\"].keys())\n",
    "building_indices = np.array([d[\"total_point\"] for d in data[\"building\"].values()])\n",
    "for i in label:\n",
    "    # a = np.histogram(building_indices,bins=30)\n",
    "    ax = plt.hist(building_indices,bins=30)\n",
    "    plt.title(i.upper())\n",
    "    plt.show()"
   ]
  },
  {
   "cell_type": "code",
   "execution_count": 140,
   "metadata": {},
   "outputs": [],
   "source": [
    "MAPTOINST_META_LIST= glob.glob(\"map_**\")"
   ]
  },
  {
   "cell_type": "code",
   "execution_count": 261,
   "metadata": {},
   "outputs": [],
   "source": [
    "def get_combining_building_data(map_data_json = MAPTOINST_META_LIST) :   \n",
    "    for i in tqdm.tqdm(range(3,len(map_data_json))):\n",
    "        map_data = read_meta_data(map_data_json[i])[\"building\"]\n",
    "        buff_folder = f\"all_data_building/{map_data_json[i][8:-5]}\"\n",
    "        os.makedirs(buff_folder,exist_ok=True)\n",
    "        map_data_id= list(map_data.keys())\n",
    "        for mdi in map_data_id:\n",
    "            list_data_txt = map_data[mdi][\"path\"]\n",
    "            # Start from init = 0 and append until last\n",
    "            print(mdi)\n",
    "            all_data = np.loadtxt(f\"Dataset/{list_data_txt[0]}\")[:,:6]\n",
    "            try:\n",
    "                for idx in range(1,len(list_data_txt)):\n",
    "                    buff = np.loadtxt(f\"Dataset/{list_data_txt[idx]}\")[:,:6]\n",
    "                    all_data = np.append(all_data,buff,axis=0)\n",
    "            except :\n",
    "                pass\n",
    "            save_npy_loc = f\"{buff_folder}/building_{mdi}.npy\"\n",
    "            map_data[mdi][\"path_all_data\"] = save_npy_loc\n",
    "            np.save(f\"{buff_folder}/building_{mdi}.npy\",all_data,allow_pickle=True)\n",
    "        save_meta_data(map_data_json[i],map_data)\n",
    " "
   ]
  },
  {
   "cell_type": "code",
   "execution_count": null,
   "metadata": {},
   "outputs": [],
   "source": [
    "\"T_315500_234500_SE\""
   ]
  },
  {
   "cell_type": "code",
   "execution_count": 262,
   "metadata": {},
   "outputs": [
    {
     "name": "stderr",
     "output_type": "stream",
     "text": [
      "  0%|          | 0/10 [00:00<?, ?it/s]"
     ]
    },
    {
     "name": "stdout",
     "output_type": "stream",
     "text": [
      "000\n",
      "001\n",
      "002\n",
      "003\n",
      "004\n",
      "005\n",
      "006\n",
      "007\n",
      "008\n",
      "009\n",
      "010\n",
      "011\n",
      "012\n",
      "013\n",
      "014\n",
      "015\n",
      "016\n",
      "017\n",
      "018\n",
      "019\n",
      "020\n",
      "021\n",
      "022\n",
      "023\n",
      "024\n",
      "025\n",
      "026\n",
      "027\n",
      "028\n",
      "029\n",
      "030\n",
      "031\n",
      "032\n",
      "033\n",
      "034\n",
      "035\n",
      "036\n",
      "037\n",
      "038\n",
      "039\n",
      "040\n",
      "041\n",
      "042\n",
      "043\n",
      "044\n",
      "045\n",
      "046\n",
      "047\n",
      "048\n",
      "049\n",
      "050\n",
      "051\n",
      "052\n",
      "053\n",
      "054\n",
      "055\n",
      "056\n",
      "057\n",
      "058\n",
      "059\n",
      "060\n",
      "061\n",
      "062\n",
      "063\n",
      "064\n",
      "065\n",
      "066\n",
      "067\n",
      "068\n",
      "069\n",
      "070\n",
      "071\n",
      "072\n",
      "073\n",
      "074\n",
      "075\n",
      "076\n",
      "077\n",
      "078\n",
      "079\n",
      "080\n",
      "081\n",
      "082\n",
      "083\n",
      "084\n",
      "085\n",
      "086\n",
      "087\n",
      "088\n",
      "089\n",
      "090\n",
      "091\n",
      "092\n",
      "093\n",
      "094\n",
      "095\n",
      "096\n",
      "097\n",
      "098\n",
      "099\n",
      "100\n",
      "101\n",
      "102\n",
      "103\n",
      "104\n",
      "105\n",
      "106\n",
      "107\n",
      "108\n",
      "109\n",
      "110\n",
      "111\n",
      "112\n",
      "113\n",
      "114\n",
      "115\n",
      "116\n",
      "117\n",
      "118\n",
      "119\n",
      "120\n",
      "121\n",
      "122\n",
      "123\n",
      "124\n",
      "125\n",
      "126\n",
      "127\n"
     ]
    },
    {
     "name": "stderr",
     "output_type": "stream",
     "text": [
      " 10%|█         | 1/10 [04:11<37:39, 251.10s/it]"
     ]
    },
    {
     "name": "stdout",
     "output_type": "stream",
     "text": [
      "128\n",
      "000\n",
      "001\n",
      "002\n",
      "003\n",
      "004\n",
      "005\n",
      "006\n",
      "007\n",
      "008\n",
      "009\n",
      "010\n",
      "011\n",
      "012\n",
      "013\n",
      "014\n",
      "015\n",
      "016\n",
      "017\n",
      "018\n",
      "019\n",
      "020\n",
      "021\n",
      "022\n",
      "023\n",
      "024\n",
      "025\n",
      "026\n",
      "027\n",
      "028\n",
      "029\n",
      "030\n",
      "031\n",
      "032\n",
      "033\n",
      "034\n",
      "035\n",
      "036\n",
      "037\n",
      "038\n",
      "039\n",
      "040\n",
      "041\n",
      "042\n",
      "043\n",
      "044\n",
      "045\n",
      "046\n",
      "047\n",
      "048\n",
      "049\n",
      "050\n",
      "051\n",
      "052\n",
      "053\n",
      "054\n",
      "055\n",
      "056\n",
      "057\n",
      "059\n",
      "060\n",
      "061\n",
      "062\n",
      "063\n",
      "064\n",
      "065\n",
      "066\n"
     ]
    },
    {
     "name": "stderr",
     "output_type": "stream",
     "text": [
      " 20%|██        | 2/10 [08:22<33:29, 251.15s/it]"
     ]
    },
    {
     "name": "stdout",
     "output_type": "stream",
     "text": [
      "000\n",
      "001\n",
      "002\n",
      "003\n",
      "004\n",
      "005\n",
      "006\n",
      "007\n",
      "008\n",
      "009\n",
      "010\n",
      "011\n",
      "012\n",
      "013\n"
     ]
    },
    {
     "name": "stderr",
     "output_type": "stream",
     "text": [
      " 20%|██        | 2/10 [08:56<35:44, 268.06s/it]"
     ]
    },
    {
     "name": "stdout",
     "output_type": "stream",
     "text": [
      "014\n",
      "015\n"
     ]
    },
    {
     "name": "stderr",
     "output_type": "stream",
     "text": [
      "\n"
     ]
    },
    {
     "ename": "IndexError",
     "evalue": "list index out of range",
     "output_type": "error",
     "traceback": [
      "\u001b[0;31m---------------------------------------------------------------------------\u001b[0m",
      "\u001b[0;31mIndexError\u001b[0m                                Traceback (most recent call last)",
      "\u001b[1;32m/media/nmhlog/Backup File/kuliah_v2/DublinCityAll/GOINGTOTHESIS/understanding.ipynb Cell 28'\u001b[0m in \u001b[0;36m<module>\u001b[0;34m\u001b[0m\n\u001b[0;32m----> <a href='vscode-notebook-cell:/media/nmhlog/Backup%20File/kuliah_v2/DublinCityAll/GOINGTOTHESIS/understanding.ipynb#ch0000073?line=0'>1</a>\u001b[0m get_combining_building_data()\n",
      "\u001b[1;32m/media/nmhlog/Backup File/kuliah_v2/DublinCityAll/GOINGTOTHESIS/understanding.ipynb Cell 26'\u001b[0m in \u001b[0;36mget_combining_building_data\u001b[0;34m(map_data_json)\u001b[0m\n\u001b[1;32m      <a href='vscode-notebook-cell:/media/nmhlog/Backup%20File/kuliah_v2/DublinCityAll/GOINGTOTHESIS/understanding.ipynb#ch0000042?line=8'>9</a>\u001b[0m \u001b[39m# Start from init = 0 and append until last\u001b[39;00m\n\u001b[1;32m     <a href='vscode-notebook-cell:/media/nmhlog/Backup%20File/kuliah_v2/DublinCityAll/GOINGTOTHESIS/understanding.ipynb#ch0000042?line=9'>10</a>\u001b[0m \u001b[39mprint\u001b[39m(mdi)\n\u001b[0;32m---> <a href='vscode-notebook-cell:/media/nmhlog/Backup%20File/kuliah_v2/DublinCityAll/GOINGTOTHESIS/understanding.ipynb#ch0000042?line=10'>11</a>\u001b[0m all_data \u001b[39m=\u001b[39m np\u001b[39m.\u001b[39mloadtxt(\u001b[39mf\u001b[39m\u001b[39m\"\u001b[39m\u001b[39mDataset/\u001b[39m\u001b[39m{\u001b[39;00mlist_data_txt[\u001b[39m0\u001b[39m]\u001b[39m}\u001b[39;00m\u001b[39m\"\u001b[39m)[:,:\u001b[39m6\u001b[39m]\n\u001b[1;32m     <a href='vscode-notebook-cell:/media/nmhlog/Backup%20File/kuliah_v2/DublinCityAll/GOINGTOTHESIS/understanding.ipynb#ch0000042?line=11'>12</a>\u001b[0m \u001b[39mtry\u001b[39;00m:\n\u001b[1;32m     <a href='vscode-notebook-cell:/media/nmhlog/Backup%20File/kuliah_v2/DublinCityAll/GOINGTOTHESIS/understanding.ipynb#ch0000042?line=12'>13</a>\u001b[0m     \u001b[39mfor\u001b[39;00m idx \u001b[39min\u001b[39;00m \u001b[39mrange\u001b[39m(\u001b[39m1\u001b[39m,\u001b[39mlen\u001b[39m(list_data_txt)):\n",
      "\u001b[0;31mIndexError\u001b[0m: list index out of range"
     ]
    }
   ],
   "source": [
    "get_combining_building_data()"
   ]
  },
  {
   "cell_type": "code",
   "execution_count": 236,
   "metadata": {},
   "outputs": [
    {
     "name": "stderr",
     "output_type": "stream",
     "text": []
    },
    {
     "name": "stdout",
     "output_type": "stream",
     "text": [
      "000\n",
      "001\n",
      "002\n",
      "003\n",
      "004\n",
      "005\n",
      "006\n",
      "007\n",
      "008\n",
      "009\n",
      "010\n",
      "011\n"
     ]
    },
    {
     "name": "stderr",
     "output_type": "stream",
     "text": [
      "  0%|          | 0/10 [03:31<?, ?it/s]"
     ]
    },
    {
     "name": "stdout",
     "output_type": "stream",
     "text": [
      "012\n"
     ]
    },
    {
     "name": "stderr",
     "output_type": "stream",
     "text": [
      "\n"
     ]
    },
    {
     "ename": "IndexError",
     "evalue": "list index out of range",
     "output_type": "error",
     "traceback": [
      "\u001b[0;31m---------------------------------------------------------------------------\u001b[0m",
      "\u001b[0;31mIndexError\u001b[0m                                Traceback (most recent call last)",
      "\u001b[1;32m/media/nmhlog/Backup File/kuliah_v2/DublinCityAll/GOINGTOTHESIS/understanding.ipynb Cell 29'\u001b[0m in \u001b[0;36m<module>\u001b[0;34m\u001b[0m\n\u001b[1;32m      <a href='vscode-notebook-cell:/media/nmhlog/Backup%20File/kuliah_v2/DublinCityAll/GOINGTOTHESIS/understanding.ipynb#ch0000072?line=7'>8</a>\u001b[0m \u001b[39m# Start from init = 0 and append until last\u001b[39;00m\n\u001b[1;32m      <a href='vscode-notebook-cell:/media/nmhlog/Backup%20File/kuliah_v2/DublinCityAll/GOINGTOTHESIS/understanding.ipynb#ch0000072?line=8'>9</a>\u001b[0m \u001b[39mprint\u001b[39m(mdi)\n\u001b[0;32m---> <a href='vscode-notebook-cell:/media/nmhlog/Backup%20File/kuliah_v2/DublinCityAll/GOINGTOTHESIS/understanding.ipynb#ch0000072?line=9'>10</a>\u001b[0m all_data \u001b[39m=\u001b[39m np\u001b[39m.\u001b[39mloadtxt(\u001b[39mf\u001b[39m\u001b[39m\"\u001b[39m\u001b[39mDataset/\u001b[39m\u001b[39m{\u001b[39;00mlist_data_txt[\u001b[39m0\u001b[39m]\u001b[39m}\u001b[39;00m\u001b[39m\"\u001b[39m)[:,:\u001b[39m6\u001b[39m]\n\u001b[1;32m     <a href='vscode-notebook-cell:/media/nmhlog/Backup%20File/kuliah_v2/DublinCityAll/GOINGTOTHESIS/understanding.ipynb#ch0000072?line=10'>11</a>\u001b[0m \u001b[39mtry\u001b[39;00m:\n\u001b[1;32m     <a href='vscode-notebook-cell:/media/nmhlog/Backup%20File/kuliah_v2/DublinCityAll/GOINGTOTHESIS/understanding.ipynb#ch0000072?line=11'>12</a>\u001b[0m     \u001b[39mfor\u001b[39;00m idx \u001b[39min\u001b[39;00m \u001b[39mrange\u001b[39m(\u001b[39m1\u001b[39m,\u001b[39mlen\u001b[39m(list_data_txt)):\n",
      "\u001b[0;31mIndexError\u001b[0m: list index out of range"
     ]
    }
   ],
   "source": [
    "    for i in tqdm.tqdm(range(3,len(map_data_json))):\n",
    "        map_data = read_meta_data(map_data_json[i])[\"building\"]\n",
    "        buff_folder = f\"all_data_building/{map_data_json[i][8:-5]}\"\n",
    "        os.makedirs(buff_folder,exist_ok=True)\n",
    "        map_data_id= list(map_data.keys())\n",
    "        for mdi in map_data_id:\n",
    "            list_data_txt = map_data[mdi][\"path\"]\n",
    "            # Start from init = 0 and append until last\n",
    "            print(mdi)\n",
    "            all_data = np.loadtxt(f\"Dataset/{list_data_txt[0]}\")[:,:6]\n",
    "            try:\n",
    "                for idx in range(1,len(list_data_txt)):\n",
    "                    buff = np.loadtxt(f\"Dataset/{list_data_txt[idx]}\")[:,:6]\n",
    "                    all_data = np.append(all_data,buff,axis=0)\n",
    "            except :\n",
    "                print(e)\n",
    "            save_npy_loc = f\"{buff_folder}/building_{mdi}.npy\"\n",
    "            map_data[mdi][\"path_all_data\"] = save_npy_loc\n",
    "            np.save(f\"{buff_folder}/building_{mdi}.npy\",all_data,allow_pickle=True)\n",
    "        save_meta_data(map_data_json[i],map_data)"
   ]
  },
  {
   "cell_type": "code",
   "execution_count": null,
   "metadata": {},
   "outputs": [],
   "source": [
    "all_data = np.loadtxt(f\"Dataset/{list_data_txt[0]}\")[:,:6]\n",
    "try:\n",
    "    for idx in range(1,len(list_data_txt)):\n",
    "        buff = np.loadtxt(f\"Dataset/{list_data_txt[idx]}\")[:,:6]\n",
    "        all_data = np.append(all_data,buff,axis=0)"
   ]
  },
  {
   "cell_type": "code",
   "execution_count": 242,
   "metadata": {},
   "outputs": [
    {
     "data": {
      "text/plain": [
       "'map_ins_T_315500_234500_SE.json'"
      ]
     },
     "execution_count": 242,
     "metadata": {},
     "output_type": "execute_result"
    }
   ],
   "source": [
    "map_data_json[i]"
   ]
  },
  {
   "cell_type": "code",
   "execution_count": 239,
   "metadata": {},
   "outputs": [
    {
     "data": {
      "text/plain": [
       "[]"
      ]
     },
     "execution_count": 239,
     "metadata": {},
     "output_type": "execute_result"
    }
   ],
   "source": [
    "map_data[mdi][\"path\"]"
   ]
  },
  {
   "cell_type": "code",
   "execution_count": 237,
   "metadata": {},
   "outputs": [
    {
     "ename": "IndexError",
     "evalue": "list index out of range",
     "output_type": "error",
     "traceback": [
      "\u001b[0;31m---------------------------------------------------------------------------\u001b[0m",
      "\u001b[0;31mIndexError\u001b[0m                                Traceback (most recent call last)",
      "\u001b[1;32m/media/nmhlog/Backup File/kuliah_v2/DublinCityAll/GOINGTOTHESIS/understanding.ipynb Cell 31'\u001b[0m in \u001b[0;36m<module>\u001b[0;34m\u001b[0m\n\u001b[0;32m----> <a href='vscode-notebook-cell:/media/nmhlog/Backup%20File/kuliah_v2/DublinCityAll/GOINGTOTHESIS/understanding.ipynb#ch0000091?line=0'>1</a>\u001b[0m \u001b[39mf\u001b[39m\u001b[39m\"\u001b[39m\u001b[39mDataset/\u001b[39m\u001b[39m{\u001b[39;00mlist_data_txt[\u001b[39m0\u001b[39m]\u001b[39m}\u001b[39;00m\u001b[39m\"\u001b[39m\n",
      "\u001b[0;31mIndexError\u001b[0m: list index out of range"
     ]
    }
   ],
   "source": [
    "f\"Dataset/{list_data_txt[0]}\""
   ]
  }
 ],
 "metadata": {
  "interpreter": {
   "hash": "bc647e2225573627561fd5069e9d88ac514047f3a8797e32712e149d4deab2d3"
  },
  "kernelspec": {
   "display_name": "Python 3.9.7 ('thesis')",
   "language": "python",
   "name": "python3"
  },
  "language_info": {
   "codemirror_mode": {
    "name": "ipython",
    "version": 3
   },
   "file_extension": ".py",
   "mimetype": "text/x-python",
   "name": "python",
   "nbconvert_exporter": "python",
   "pygments_lexer": "ipython3",
   "version": "3.8.10"
  },
  "orig_nbformat": 4
 },
 "nbformat": 4,
 "nbformat_minor": 2
}
