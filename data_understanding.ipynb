{
 "cells": [
  {
   "cell_type": "code",
   "execution_count": 1,
   "metadata": {},
   "outputs": [
    {
     "name": "stdout",
     "output_type": "stream",
     "text": [
      "Jupyter environment detected. Enabling Open3D WebVisualizer.\n",
      "[Open3D INFO] WebRTC GUI backend enabled.\n",
      "[Open3D INFO] WebRTCWindowSystem: HTTP handshake server disabled.\n"
     ]
    }
   ],
   "source": [
    "import numpy as np\n",
    "import open3d as o3d\n",
    "import os\n",
    "import glob\n",
    "from data_understanding import read_meta_data,save_meta_data\n",
    "# import pcl"
   ]
  },
  {
   "cell_type": "code",
   "execution_count": 2,
   "metadata": {},
   "outputs": [],
   "source": [
    "data = np.load(\"all_data_building/T_315500_233500_NE_T_315500_234000_SE/building_008.npy\",allow_pickle=True)"
   ]
  },
  {
   "cell_type": "code",
   "execution_count": 5,
   "metadata": {},
   "outputs": [
    {
     "data": {
      "text/plain": [
       "(array([[3.15929771e+05, 2.34140876e+05, 6.81899977e+00],\n",
       "        [3.15929799e+05, 2.34140887e+05, 6.51800013e+00],\n",
       "        [3.15929895e+05, 2.34140966e+05, 6.41599989e+00],\n",
       "        ...,\n",
       "        [3.15928032e+05, 2.34147020e+05, 1.15310001e+01],\n",
       "        [3.15928081e+05, 2.34147034e+05, 1.10489998e+01],\n",
       "        [3.15928140e+05, 2.34147256e+05, 1.22119999e+01]]),\n",
       " array([[170.,   0., 255.],\n",
       "        [170.,   0., 255.],\n",
       "        [170.,   0., 255.],\n",
       "        ...,\n",
       "        [  0., 255., 255.],\n",
       "        [  0., 255., 255.],\n",
       "        [  0., 255., 255.]]))"
      ]
     },
     "execution_count": 5,
     "metadata": {},
     "output_type": "execute_result"
    }
   ],
   "source": [
    "data[:,:3],data[:,3:]"
   ]
  },
  {
   "cell_type": "code",
   "execution_count": 38,
   "metadata": {},
   "outputs": [],
   "source": [
    "pcd_tree = o3d.geometry.KDTreeFlann(pcd)"
   ]
  },
  {
   "cell_type": "code",
   "execution_count": 7,
   "metadata": {},
   "outputs": [],
   "source": [
    "pcd = o3d.geometry.PointCloud()\n",
    "pcd.points = o3d.utility.Vector3dVector(data[:,:3])\n",
    "pcd.colors=o3d.utility.Vector3dVector(data[:,3:])"
   ]
  },
  {
   "cell_type": "code",
   "execution_count": 52,
   "metadata": {},
   "outputs": [
    {
     "data": {
      "text/plain": [
       "array([9.98056760e+10, 5.48232342e+10, 1.66001622e+02])"
      ]
     },
     "execution_count": 52,
     "metadata": {},
     "output_type": "execute_result"
    }
   ],
   "source": [
    "from scipy.stats import maxm"
   ]
  },
  {
   "cell_type": "code",
   "execution_count": 60,
   "metadata": {},
   "outputs": [
    {
     "data": {
      "text/plain": [
       "3.3545743610112986"
      ]
     },
     "execution_count": 60,
     "metadata": {},
     "output_type": "execute_result"
    }
   ],
   "source": [
    "np.mean(np.sum(np.sqrt(np.square(pcd.points -pcd.get_center())),axis=1))\n",
    "np.std(np.sum(np.sqrt(np.square(pcd.points -pcd.get_center())),axis=1))"
   ]
  },
  {
   "cell_type": "code",
   "execution_count": 61,
   "metadata": {},
   "outputs": [],
   "source": [
    "import matplotlib.pyplot as plt"
   ]
  },
  {
   "cell_type": "code",
   "execution_count": 63,
   "metadata": {},
   "outputs": [],
   "source": [
    "d_test= np.sum(np.sqrt(np.square(pcd.points -pcd.get_center())),axis=1)"
   ]
  },
  {
   "cell_type": "code",
   "execution_count": 67,
   "metadata": {},
   "outputs": [
    {
     "name": "stdout",
     "output_type": "stream",
     "text": [
      "22.73232882861463\n",
      "1.0546643048713165\n",
      "8.189021815050223\n"
     ]
    }
   ],
   "source": [
    "print(d_test.max())\n",
    "print(d_test.min())\n",
    "print(d_test.mean())\n"
   ]
  },
  {
   "cell_type": "code",
   "execution_count": 80,
   "metadata": {},
   "outputs": [],
   "source": [
    "np.median(d_test)\n",
    "q1= np.quantile(d_test,q=0.25)\n",
    "q3= np.quantile(d_test,q=0.75)\n"
   ]
  },
  {
   "cell_type": "code",
   "execution_count": 87,
   "metadata": {},
   "outputs": [
    {
     "ename": "AttributeError",
     "evalue": "'tuple' object has no attribute 'append'",
     "output_type": "error",
     "traceback": [
      "\u001b[0;31m---------------------------------------------------------------------------\u001b[0m",
      "\u001b[0;31mAttributeError\u001b[0m                            Traceback (most recent call last)",
      "\u001b[1;32m/media/nmhlog/BackUp Windows/Thesis/GOINGTOTHESIS/data_understanding.ipynb Cell 12'\u001b[0m in \u001b[0;36m<module>\u001b[0;34m\u001b[0m\n\u001b[1;32m      <a href='vscode-notebook-cell:/media/nmhlog/BackUp%20Windows/Thesis/GOINGTOTHESIS/data_understanding.ipynb#ch0000041?line=0'>1</a>\u001b[0m index \u001b[39m=\u001b[39m  np\u001b[39m.\u001b[39mwhere(d_test\u001b[39m<\u001b[39m\u001b[39m=\u001b[39mq1)\n\u001b[0;32m----> <a href='vscode-notebook-cell:/media/nmhlog/BackUp%20Windows/Thesis/GOINGTOTHESIS/data_understanding.ipynb#ch0000041?line=1'>2</a>\u001b[0m index\u001b[39m.\u001b[39;49mappend(np\u001b[39m.\u001b[39mwhere(d_test\u001b[39m>\u001b[39m\u001b[39m=\u001b[39mq3))\n",
      "\u001b[0;31mAttributeError\u001b[0m: 'tuple' object has no attribute 'append'"
     ]
    }
   ],
   "source": [
    "index =  np.where(d_test<=q1)\n",
    "index.append(np.where(d_test>=q3))"
   ]
  },
  {
   "cell_type": "code",
   "execution_count": 104,
   "metadata": {},
   "outputs": [],
   "source": [
    "ind= np.sort(np.append(np.where(d_test<=q1),np.where(d_test>=q3),axis=1))"
   ]
  },
  {
   "cell_type": "code",
   "execution_count": 109,
   "metadata": {},
   "outputs": [
    {
     "data": {
      "text/plain": [
       "array([    0,     1,     2, ..., 62206, 62207, 62208])"
      ]
     },
     "execution_count": 109,
     "metadata": {},
     "output_type": "execute_result"
    }
   ],
   "source": [
    "ind[0]"
   ]
  },
  {
   "cell_type": "code",
   "execution_count": 114,
   "metadata": {},
   "outputs": [
    {
     "data": {
      "text/plain": [
       "(array([  6.,   8.,  11.,  19.,  39.,  41.,  47.,  59.,  77.,  80., 102.,\n",
       "         96., 109.,  99., 113., 132., 140., 136., 168., 153., 192., 175.,\n",
       "        201., 208., 201., 226., 240., 261., 288., 272., 275., 277., 298.,\n",
       "        288., 298., 279., 311., 284., 310., 308., 274., 344., 305., 325.,\n",
       "        339., 313., 348., 346., 337., 332., 364., 338., 362., 352., 365.,\n",
       "        328., 376., 384., 368., 389., 404., 413., 397., 417., 402., 400.,\n",
       "        409., 376., 433., 390., 408., 421., 402., 406., 423., 437., 425.,\n",
       "        446., 471., 481., 493., 508., 467., 503., 506., 521., 510., 478.,\n",
       "        496., 516., 513., 521., 540., 512., 550., 560., 544., 536., 553.,\n",
       "        525., 545., 589., 520., 544., 551., 547., 522., 534., 553., 563.,\n",
       "        501., 570., 554., 540., 516., 555., 522., 533., 459., 509., 469.,\n",
       "        482., 445., 450., 439., 451., 434., 393., 401., 458., 393., 374.,\n",
       "        404., 400., 377., 377., 331., 337., 340., 319., 342., 330., 306.,\n",
       "        300., 294., 282., 279., 263., 279., 252., 241., 229., 224., 220.,\n",
       "        224., 204., 219., 203., 180., 208., 180., 164., 173., 180., 167.,\n",
       "        176., 152., 135., 161., 145., 136., 136., 137., 135., 114., 118.,\n",
       "        130., 108., 100., 109.,  77.,  85.,  96.,  78.,  81.,  80.,  64.,\n",
       "         70.,  58.,  60.,  66.,  60.,  61.,  65.,  59.,  58.,  54.,  59.,\n",
       "         64.,  55.,  53.,  59.,  48.,  65.,  53.,  52.,  63.,  56.,  63.,\n",
       "         55.,  49.,  47.,  40.,  49.,  47.,  38.,  60.,  41.,  42.,  34.,\n",
       "         39.,  28.,  31.,  32.,  29.,  29.,  34.,  24.,  28.,  24.,  31.,\n",
       "         37.,  37.,  31.,  28.,  21.,  13.,   5.,   6.,  11.,   4.,   6.,\n",
       "         10.,   5.,   4.,   1.,   5.,   7.,   3.,   5.,   2.,   1.,   0.,\n",
       "          0.,   2.,   1.,   1.,   0.,   0.,   0.,   1.,   1.,   1.,   1.,\n",
       "          1.,   0.,   4.,   4.,   1.,   5.,   7.,   3.,  11.,   8.,   4.,\n",
       "          7.,   7.,   5.,   1.,   8.,   4.,   4.,   2.,   1.,   2.,   2.,\n",
       "          1.,   2.,   0.,   1.,   0.,   1.,   1.,   0.,   0.,   1.,   0.,\n",
       "          1.,   1.,   1.]),\n",
       " array([ 1.0546643 ,  1.12692319,  1.19918207,  1.27144095,  1.34369983,\n",
       "         1.41595871,  1.4882176 ,  1.56047648,  1.63273536,  1.70499424,\n",
       "         1.77725312,  1.849512  ,  1.92177089,  1.99402977,  2.06628865,\n",
       "         2.13854753,  2.21080641,  2.28306529,  2.35532418,  2.42758306,\n",
       "         2.49984194,  2.57210082,  2.6443597 ,  2.71661859,  2.78887747,\n",
       "         2.86113635,  2.93339523,  3.00565411,  3.07791299,  3.15017188,\n",
       "         3.22243076,  3.29468964,  3.36694852,  3.4392074 ,  3.51146628,\n",
       "         3.58372517,  3.65598405,  3.72824293,  3.80050181,  3.87276069,\n",
       "         3.94501957,  4.01727846,  4.08953734,  4.16179622,  4.2340551 ,\n",
       "         4.30631398,  4.37857287,  4.45083175,  4.52309063,  4.59534951,\n",
       "         4.66760839,  4.73986727,  4.81212616,  4.88438504,  4.95664392,\n",
       "         5.0289028 ,  5.10116168,  5.17342056,  5.24567945,  5.31793833,\n",
       "         5.39019721,  5.46245609,  5.53471497,  5.60697385,  5.67923274,\n",
       "         5.75149162,  5.8237505 ,  5.89600938,  5.96826826,  6.04052715,\n",
       "         6.11278603,  6.18504491,  6.25730379,  6.32956267,  6.40182155,\n",
       "         6.47408044,  6.54633932,  6.6185982 ,  6.69085708,  6.76311596,\n",
       "         6.83537484,  6.90763373,  6.97989261,  7.05215149,  7.12441037,\n",
       "         7.19666925,  7.26892814,  7.34118702,  7.4134459 ,  7.48570478,\n",
       "         7.55796366,  7.63022254,  7.70248143,  7.77474031,  7.84699919,\n",
       "         7.91925807,  7.99151695,  8.06377583,  8.13603472,  8.2082936 ,\n",
       "         8.28055248,  8.35281136,  8.42507024,  8.49732912,  8.56958801,\n",
       "         8.64184689,  8.71410577,  8.78636465,  8.85862353,  8.93088242,\n",
       "         9.0031413 ,  9.07540018,  9.14765906,  9.21991794,  9.29217682,\n",
       "         9.36443571,  9.43669459,  9.50895347,  9.58121235,  9.65347123,\n",
       "         9.72573011,  9.797989  ,  9.87024788,  9.94250676, 10.01476564,\n",
       "        10.08702452, 10.1592834 , 10.23154229, 10.30380117, 10.37606005,\n",
       "        10.44831893, 10.52057781, 10.5928367 , 10.66509558, 10.73735446,\n",
       "        10.80961334, 10.88187222, 10.9541311 , 11.02638999, 11.09864887,\n",
       "        11.17090775, 11.24316663, 11.31542551, 11.38768439, 11.45994328,\n",
       "        11.53220216, 11.60446104, 11.67671992, 11.7489788 , 11.82123768,\n",
       "        11.89349657, 11.96575545, 12.03801433, 12.11027321, 12.18253209,\n",
       "        12.25479098, 12.32704986, 12.39930874, 12.47156762, 12.5438265 ,\n",
       "        12.61608538, 12.68834427, 12.76060315, 12.83286203, 12.90512091,\n",
       "        12.97737979, 13.04963867, 13.12189756, 13.19415644, 13.26641532,\n",
       "        13.3386742 , 13.41093308, 13.48319197, 13.55545085, 13.62770973,\n",
       "        13.69996861, 13.77222749, 13.84448637, 13.91674526, 13.98900414,\n",
       "        14.06126302, 14.1335219 , 14.20578078, 14.27803966, 14.35029855,\n",
       "        14.42255743, 14.49481631, 14.56707519, 14.63933407, 14.71159295,\n",
       "        14.78385184, 14.85611072, 14.9283696 , 15.00062848, 15.07288736,\n",
       "        15.14514625, 15.21740513, 15.28966401, 15.36192289, 15.43418177,\n",
       "        15.50644065, 15.57869954, 15.65095842, 15.7232173 , 15.79547618,\n",
       "        15.86773506, 15.93999394, 16.01225283, 16.08451171, 16.15677059,\n",
       "        16.22902947, 16.30128835, 16.37354723, 16.44580612, 16.518065  ,\n",
       "        16.59032388, 16.66258276, 16.73484164, 16.80710053, 16.87935941,\n",
       "        16.95161829, 17.02387717, 17.09613605, 17.16839493, 17.24065382,\n",
       "        17.3129127 , 17.38517158, 17.45743046, 17.52968934, 17.60194822,\n",
       "        17.67420711, 17.74646599, 17.81872487, 17.89098375, 17.96324263,\n",
       "        18.03550152, 18.1077604 , 18.18001928, 18.25227816, 18.32453704,\n",
       "        18.39679592, 18.46905481, 18.54131369, 18.61357257, 18.68583145,\n",
       "        18.75809033, 18.83034921, 18.9026081 , 18.97486698, 19.04712586,\n",
       "        19.11938474, 19.19164362, 19.2639025 , 19.33616139, 19.40842027,\n",
       "        19.48067915, 19.55293803, 19.62519691, 19.6974558 , 19.76971468,\n",
       "        19.84197356, 19.91423244, 19.98649132, 20.0587502 , 20.13100909,\n",
       "        20.20326797, 20.27552685, 20.34778573, 20.42004461, 20.49230349,\n",
       "        20.56456238, 20.63682126, 20.70908014, 20.78133902, 20.8535979 ,\n",
       "        20.92585678, 20.99811567, 21.07037455, 21.14263343, 21.21489231,\n",
       "        21.28715119, 21.35941008, 21.43166896, 21.50392784, 21.57618672,\n",
       "        21.6484456 , 21.72070448, 21.79296337, 21.86522225, 21.93748113,\n",
       "        22.00974001, 22.08199889, 22.15425777, 22.22651666, 22.29877554,\n",
       "        22.37103442, 22.4432933 , 22.51555218, 22.58781107, 22.66006995,\n",
       "        22.73232883]),\n",
       " <a list of 300 Patch objects>)"
      ]
     },
     "execution_count": 114,
     "metadata": {},
     "output_type": "execute_result"
    },
    {
     "data": {
      "image/png": "[encoded data removed]",
      "text/plain": [
       "<Figure size 432x288 with 1 Axes>"
      ]
     },
     "metadata": {
      "needs_background": "light"
     },
     "output_type": "display_data"
    }
   ],
   "source": [
    "plt.hist(np.sum(np.sqrt(np.square(pcd.points -pcd.get_center())),axis=1),bins=300)"
   ]
  },
  {
   "cell_type": "code",
   "execution_count": 70,
   "metadata": {},
   "outputs": [
    {
     "data": {
      "image/png": "[encoded data removed]",
      "text/plain": [
       "<Figure size 432x288 with 1 Axes>"
      ]
     },
     "metadata": {
      "needs_background": "light"
     },
     "output_type": "display_data"
    }
   ],
   "source": [
    "data = plt.boxplot(np.sort(np.sum(np.sqrt(np.square(pcd.points -pcd.get_center())),axis=1)))"
   ]
  },
  {
   "cell_type": "code",
   "execution_count": 69,
   "metadata": {},
   "outputs": [
    {
     "data": {
      "text/plain": [
       "{'whiskers': [<matplotlib.lines.Line2D at 0x7fae9dbaa6a0>,\n",
       "  <matplotlib.lines.Line2D at 0x7fae9dbaaa00>],\n",
       " 'caps': [<matplotlib.lines.Line2D at 0x7fae9dbb80a0>,\n",
       "  <matplotlib.lines.Line2D at 0x7fae9dbb83d0>],\n",
       " 'boxes': [<matplotlib.lines.Line2D at 0x7fae9dbaa670>],\n",
       " 'medians': [<matplotlib.lines.Line2D at 0x7fae9dbb8700>],\n",
       " 'fliers': [<matplotlib.lines.Line2D at 0x7fae9dbaa610>],\n",
       " 'means': []}"
      ]
     },
     "execution_count": 69,
     "metadata": {},
     "output_type": "execute_result"
    }
   ],
   "source": [
    "data"
   ]
  },
  {
   "cell_type": "code",
   "execution_count": 37,
   "metadata": {},
   "outputs": [
    {
     "name": "stdout",
     "output_type": "stream",
     "text": [
      "Help on method compute_mahalanobis_distance in module open3d.cuda.pybind.geometry:\n",
      "\n",
      "compute_mahalanobis_distance(...) method of open3d.cuda.pybind.geometry.PointCloud instance\n",
      "    compute_mahalanobis_distance(self)\n",
      "    Function to compute the Mahalanobis distance for points in a point cloud. See: https://en.wikipedia.org/wiki/Mahalanobis_distance.\n",
      "    \n",
      "    Returns:\n",
      "        open3d.utility.DoubleVector\n",
      "\n"
     ]
    }
   ],
   "source": [
    "help(pcd.compute_mahalanobis_distance)"
   ]
  },
  {
   "cell_type": "code",
   "execution_count": 25,
   "metadata": {},
   "outputs": [
    {
     "data": {
      "text/plain": [
       "5.694190691611122"
      ]
     },
     "execution_count": 25,
     "metadata": {},
     "output_type": "execute_result"
    }
   ],
   "source": [
    "cmd[0]"
   ]
  },
  {
   "cell_type": "code",
   "execution_count": 35,
   "metadata": {},
   "outputs": [],
   "source": [
    "cnnd = pcd.compute_nearest_neighbor_distance()"
   ]
  },
  {
   "cell_type": "code",
   "execution_count": 34,
   "metadata": {},
   "outputs": [
    {
     "name": "stdout",
     "output_type": "stream",
     "text": [
      "Help on method compute_nearest_neighbor_distance in module open3d.cuda.pybind.geometry:\n",
      "\n",
      "compute_nearest_neighbor_distance(...) method of open3d.cuda.pybind.geometry.PointCloud instance\n",
      "    compute_nearest_neighbor_distance(self)\n",
      "    Function to compute the distance from a point to its nearest neighbor in the point cloud\n",
      "    \n",
      "    Returns:\n",
      "        open3d.utility.DoubleVector\n",
      "\n"
     ]
    }
   ],
   "source": [
    "help(pcd.compute_nearest_neighbor_distance)"
   ]
  },
  {
   "cell_type": "code",
   "execution_count": 31,
   "metadata": {},
   "outputs": [
    {
     "name": "stdout",
     "output_type": "stream",
     "text": [
      "Help on method compute_point_cloud_distance in module open3d.cuda.pybind.geometry:\n",
      "\n",
      "compute_point_cloud_distance(...) method of open3d.cuda.pybind.geometry.PointCloud instance\n",
      "    compute_point_cloud_distance(self, target)\n",
      "    For each point in the source point cloud, compute the distance to the target point cloud.\n",
      "    \n",
      "    Args:\n",
      "        target (open3d.geometry.PointCloud): The target point cloud.\n",
      "    \n",
      "    Returns:\n",
      "        open3d.utility.DoubleVector\n",
      "\n"
     ]
    }
   ],
   "source": [
    "help(pcd.compute_point_cloud_distance)"
   ]
  },
  {
   "cell_type": "code",
   "execution_count": 24,
   "metadata": {},
   "outputs": [
    {
     "data": {
      "text/plain": [
       "0.3025034534617343"
      ]
     },
     "execution_count": 24,
     "metadata": {},
     "output_type": "execute_result"
    }
   ],
   "source": [
    "cnnd[0]"
   ]
  },
  {
   "cell_type": "code",
   "execution_count": 27,
   "metadata": {},
   "outputs": [
    {
     "data": {
      "text/plain": [
       "array([ 9.40761895, -2.74272076, -6.06516191])"
      ]
     },
     "execution_count": 27,
     "metadata": {},
     "output_type": "execute_result"
    }
   ],
   "source": [
    "pcd.points[0]-pcd.get_center()"
   ]
  },
  {
   "cell_type": "code",
   "execution_count": 28,
   "metadata": {},
   "outputs": [
    {
     "ename": "AttributeError",
     "evalue": "'open3d.cuda.pybind.utility.Vector3dVector' object has no attribute 'compute_nearest_neighbor_distance'",
     "output_type": "error",
     "traceback": [
      "\u001b[0;31m---------------------------------------------------------------------------\u001b[0m",
      "\u001b[0;31mAttributeError\u001b[0m                            Traceback (most recent call last)",
      "\u001b[1;32m/media/nmhlog/BackUp Windows/Thesis/GOINGTOTHESIS/data_understanding.ipynb Cell 12'\u001b[0m in \u001b[0;36m<module>\u001b[0;34m\u001b[0m\n\u001b[0;32m----> <a href='vscode-notebook-cell:/media/nmhlog/BackUp%20Windows/Thesis/GOINGTOTHESIS/data_understanding.ipynb#ch0000028?line=0'>1</a>\u001b[0m pcd\u001b[39m.\u001b[39;49mpoints\u001b[39m.\u001b[39;49mcompute_nearest_neighbor_distance(pcd\u001b[39m.\u001b[39mget_center())\n",
      "\u001b[0;31mAttributeError\u001b[0m: 'open3d.cuda.pybind.utility.Vector3dVector' object has no attribute 'compute_nearest_neighbor_distance'"
     ]
    }
   ],
   "source": [
    "pcd.points.compute_nearest_neighbor_distance(pcd.get_center())"
   ]
  },
  {
   "cell_type": "code",
   "execution_count": null,
   "metadata": {},
   "outputs": [],
   "source": [
    "# map_building = glob.glob(\"map**\")\n",
    "# ins_building = glob.glob(\"building**\")\n",
    "# \"\"\"\n",
    "# for editing the bug\n",
    "# \"\"\"\n",
    "# for i in map_building:\n",
    "#     area_json = i.split(\"map_ins_\")[-1]\n",
    "#     os.rename(i,f\"building_ins_{area_json}\")\n",
    "\n",
    "# for i,_ in enumerate(map_building):\n",
    "#     dict = read_meta_data(map_building[i])\n",
    "#     dict.pop(\"building\")\n",
    "#     area_json = map_building[i].split(\"ins_\")[-1]\n",
    "#     building = read_meta_data(f\"building_ins_{area_json}\")\n",
    "#     dict[\"building\"]=building\n",
    "#     os.remove(f\"building_ins_{area_json}\")\n",
    "#     os.remove(map_building[i])\n",
    "#     save_meta_data(area_json[:-5],dict)\n",
    "area_meta_data_json= glob.glob(\"T**.json\")\n",
    "for num in range(len(area_meta_data_json)):\n",
    "    map_ins = read_meta_data(area_meta_data_json[num])\n",
    "    for k,kd in enumerate(map_ins[\"building\"].keys()):\n",
    "        path_all_data = map_ins[\"building\"][kd][\"path_all_data_txt\"]\n",
    "        print(path_all_data)\n",
    "        path_all_data_txt = path_all_data[:-4]+\".txt\"\n",
    "        print(path_all_data_txt)\n",
    "        all_data = np.loadtxt(path_all_data)\n",
    "        np.savetxt(path_all_data_txt,all_data,fmt=\"%.9f %.9f %.9f %d %d %d\")\n",
    "        # map_ins[id_keys[-1]][kd].pop(\"path_all_data_txt\")\n",
    "        map_ins[\"building\"][kd][\"path_all_data_txt\"] = path_all_data_txt\n",
    "        os.remove(path_all_data)\n",
    "        \n",
    "    save_meta_data(area_meta_data_json[0][:-5],map_ins)\n",
    "    \n"
   ]
  }
 ],
 "metadata": {
  "interpreter": {
   "hash": "2c75f889e342b1ed19902453eff784f595b1b6912eed911ffd3b864179ac22a9"
  },
  "kernelspec": {
   "display_name": "Python 3.8.10 ('thesis': venv)",
   "language": "python",
   "name": "python3"
  },
  "language_info": {
   "codemirror_mode": {
    "name": "ipython",
    "version": 3
   },
   "file_extension": ".py",
   "mimetype": "text/x-python",
   "name": "python",
   "nbconvert_exporter": "python",
   "pygments_lexer": "ipython3",
   "version": "3.8.10"
  },
  "orig_nbformat": 4
 },
 "nbformat": 4,
 "nbformat_minor": 2
}
