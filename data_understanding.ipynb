{
 "cells": [
  {
   "cell_type": "code",
   "execution_count": 17,
   "metadata": {},
   "outputs": [],
   "source": [
    "import numpy as np\n",
    "import open3d as o3d\n",
    "import os\n",
    "import glob\n",
    "from data_understanding import read_meta_data,save_meta_data"
   ]
  },
  {
   "cell_type": "code",
   "execution_count": null,
   "metadata": {},
   "outputs": [],
   "source": []
  },
  {
   "cell_type": "code",
   "execution_count": null,
   "metadata": {},
   "outputs": [],
   "source": [
    "# map_building = glob.glob(\"map**\")\n",
    "# ins_building = glob.glob(\"building**\")\n",
    "# \"\"\"\n",
    "# for editing the bug\n",
    "# \"\"\"\n",
    "# for i in map_building:\n",
    "#     area_json = i.split(\"map_ins_\")[-1]\n",
    "#     os.rename(i,f\"building_ins_{area_json}\")\n",
    "\n",
    "# for i,_ in enumerate(map_building):\n",
    "#     dict = read_meta_data(map_building[i])\n",
    "#     dict.pop(\"building\")\n",
    "#     area_json = map_building[i].split(\"ins_\")[-1]\n",
    "#     building = read_meta_data(f\"building_ins_{area_json}\")\n",
    "#     dict[\"building\"]=building\n",
    "#     os.remove(f\"building_ins_{area_json}\")\n",
    "#     os.remove(map_building[i])\n",
    "#     save_meta_data(area_json[:-5],dict)\n",
    "area_meta_data_json= glob.glob(\"T**.json\")\n",
    "for num in range(len(area_meta_data_json)):\n",
    "    map_ins = read_meta_data(area_meta_data_json[num])\n",
    "    for k,kd in enumerate(map_ins[\"building\"].keys()):\n",
    "        path_all_data = map_ins[\"building\"][kd][\"path_all_data_txt\"]\n",
    "        print(path_all_data)\n",
    "        path_all_data_txt = path_all_data[:-4]+\".txt\"\n",
    "        print(path_all_data_txt)\n",
    "        all_data = np.loadtxt(path_all_data)\n",
    "        np.savetxt(path_all_data_txt,all_data,fmt=\"%.9f %.9f %.9f %d %d %d\")\n",
    "        # map_ins[id_keys[-1]][kd].pop(\"path_all_data_txt\")\n",
    "        map_ins[\"building\"][kd][\"path_all_data_txt\"] = path_all_data_txt\n",
    "        os.remove(path_all_data)\n",
    "        \n",
    "    save_meta_data(area_meta_data_json[0][:-5],map_ins)\n",
    "    \n"
   ]
  },
  {
   "cell_type": "code",
   "execution_count": 96,
   "metadata": {},
   "outputs": [],
   "source": [
    "area_meta_data_json= glob.glob(\"T**.json\")"
   ]
  },
  {
   "cell_type": "code",
   "execution_count": 97,
   "metadata": {},
   "outputs": [],
   "source": [
    "area_meta_data = read_meta_data(area_meta_data_json[0])"
   ]
  },
  {
   "cell_type": "code",
   "execution_count": 2,
   "metadata": {},
   "outputs": [
    {
     "name": "stdout",
     "output_type": "stream",
     "text": [
      "Jupyter environment detected. Enabling Open3D WebVisualizer.\n",
      "[Open3D INFO] WebRTC GUI backend enabled.\n",
      "[Open3D INFO] WebRTCWindowSystem: HTTP handshake server disabled.\n"
     ]
    }
   ],
   "source": [
    "import numpy as np\n",
    "import open3d as o3d"
   ]
  },
  {
   "cell_type": "code",
   "execution_count": 32,
   "metadata": {},
   "outputs": [],
   "source": [
    "test = np.loadtxt(\"GOINGTOTHESIS/all_data_building/T_315500_233500_NE_T_315500_234000_SE/building_000.txt\")\n",
    "test[:,:3] = stats.(test[:,:3])\n",
    "test[:,3:]=test[:,3:]/255*2"
   ]
  },
  {
   "cell_type": "code",
   "execution_count": 7,
   "metadata": {},
   "outputs": [],
   "source": [
    "pcd = o3d.io.read_point_cloud(\"/media/nmhlog/BackUp Windows/Thesis/GOINGTOTHESIS/Dataset/T_315500_233500_NE_T_315500_234000_SE/building_01.txt\",format='xyz')"
   ]
  },
  {
   "cell_type": "code",
   "execution_count": 44,
   "metadata": {},
   "outputs": [],
   "source": [
    "pcd = o3d.geometry.PointCloud()"
   ]
  },
  {
   "cell_type": "code",
   "execution_count": 45,
   "metadata": {},
   "outputs": [],
   "source": [
    "pcd.points = o3d.utility.Vector3dVector(test[:,:3])"
   ]
  },
  {
   "cell_type": "code",
   "execution_count": 54,
   "metadata": {},
   "outputs": [
    {
     "data": {
      "text/plain": [
       "array([[ 1.33125623, -0.36010444, -1.5927004 ],\n",
       "       [ 1.23736297, -0.52526804, -2.45545154],\n",
       "       [ 1.3357074 , -0.39526757, -1.59831114],\n",
       "       ...,\n",
       "       [ 1.34828544, -0.84311061, -1.57811288],\n",
       "       [ 1.38004847, -0.83486388, -1.40562676],\n",
       "       [ 1.38487186, -0.82146295, -1.51655654]])"
      ]
     },
     "execution_count": 54,
     "metadata": {},
     "output_type": "execute_result"
    }
   ],
   "source": []
  },
  {
   "cell_type": "code",
   "execution_count": 53,
   "metadata": {},
   "outputs": [
    {
     "ename": "ValueError",
     "evalue": "The truth value of an array with more than one element is ambiguous. Use a.any() or a.all()",
     "output_type": "error",
     "traceback": [
      "\u001b[0;31m---------------------------------------------------------------------------\u001b[0m",
      "\u001b[0;31mValueError\u001b[0m                                Traceback (most recent call last)",
      "\u001b[1;32m/media/nmhlog/BackUp Windows/Thesis/data_understanding.ipynb Cell 11'\u001b[0m in \u001b[0;36m<module>\u001b[0;34m\u001b[0m\n\u001b[0;32m----> <a href='vscode-notebook-cell:/media/nmhlog/BackUp%20Windows/Thesis/data_understanding.ipynb#ch0000031?line=0'>1</a>\u001b[0m \u001b[39mmin\u001b[39;49m(np\u001b[39m.\u001b[39;49marray(pcd\u001b[39m.\u001b[39;49mpoints))\n",
      "\u001b[0;31mValueError\u001b[0m: The truth value of an array with more than one element is ambiguous. Use a.any() or a.all()"
     ]
    }
   ],
   "source": [
    "min(np.array(pcd.points))"
   ]
  },
  {
   "cell_type": "code",
   "execution_count": 58,
   "metadata": {},
   "outputs": [],
   "source": [
    "test = np.array(pcd.points)-np.min(test[:,:3])"
   ]
  },
  {
   "cell_type": "code",
   "execution_count": 59,
   "metadata": {},
   "outputs": [
    {
     "data": {
      "text/plain": [
       "array([[ 1.33125623, -0.36010444, -1.5927004 ],\n",
       "       [ 1.23736297, -0.52526804, -2.45545154],\n",
       "       [ 1.3357074 , -0.39526757, -1.59831114],\n",
       "       ...,\n",
       "       [ 1.34828544, -0.84311061, -1.57811288],\n",
       "       [ 1.38004847, -0.83486388, -1.40562676],\n",
       "       [ 1.38487186, -0.82146295, -1.51655654]])"
      ]
     },
     "execution_count": 59,
     "metadata": {},
     "output_type": "execute_result"
    }
   ],
   "source": [
    "test"
   ]
  },
  {
   "cell_type": "code",
   "execution_count": 47,
   "metadata": {},
   "outputs": [],
   "source": [
    "downpcd = pcd.voxel_down_sample(voxel_size=0.05)\n",
    "o3d.visualization.draw_geometries([downpcd],\n",
    "                                  zoom=0.3412,\n",
    "                                  front=[0.4257, -0.2125, -0.8795],\n",
    "                                  lookat=[2.6172, 2.0475, 1.532],\n",
    "                                  up=[-0.0694, -0.9768, 0.2024])"
   ]
  },
  {
   "cell_type": "code",
   "execution_count": null,
   "metadata": {},
   "outputs": [],
   "source": [
    "pcd.points"
   ]
  },
  {
   "cell_type": "code",
   "execution_count": 46,
   "metadata": {},
   "outputs": [
    {
     "data": {
      "text/plain": [
       "array([ 1.95436250e-12, -2.91133653e-12, -2.11765940e-13])"
      ]
     },
     "execution_count": 46,
     "metadata": {},
     "output_type": "execute_result"
    }
   ],
   "source": [
    "pcd.get_center()"
   ]
  },
  {
   "cell_type": "code",
   "execution_count": 49,
   "metadata": {},
   "outputs": [
    {
     "ename": "TypeError",
     "evalue": "compute_point_cloud_distance(): incompatible function arguments. The following argument types are supported:\n    1. (self: open3d.cpu.pybind.geometry.PointCloud, target: open3d.cpu.pybind.geometry.PointCloud) -> open3d.cpu.pybind.utility.DoubleVector\n\nInvoked with: PointCloud with 208827 points., array([ 1.95436250e-12, -2.91133653e-12, -2.11765940e-13])",
     "output_type": "error",
     "traceback": [
      "\u001b[0;31m---------------------------------------------------------------------------\u001b[0m",
      "\u001b[0;31mTypeError\u001b[0m                                 Traceback (most recent call last)",
      "\u001b[1;32m/media/nmhlog/BackUp Windows/Thesis/data_understanding.ipynb Cell 13'\u001b[0m in \u001b[0;36m<module>\u001b[0;34m\u001b[0m\n\u001b[0;32m----> <a href='vscode-notebook-cell:/media/nmhlog/BackUp%20Windows/Thesis/data_understanding.ipynb#ch0000021?line=0'>1</a>\u001b[0m pcd\u001b[39m.\u001b[39;49mcompute_point_cloud_distance(pcd\u001b[39m.\u001b[39;49mget_center())\n",
      "\u001b[0;31mTypeError\u001b[0m: compute_point_cloud_distance(): incompatible function arguments. The following argument types are supported:\n    1. (self: open3d.cpu.pybind.geometry.PointCloud, target: open3d.cpu.pybind.geometry.PointCloud) -> open3d.cpu.pybind.utility.DoubleVector\n\nInvoked with: PointCloud with 208827 points., array([ 1.95436250e-12, -2.91133653e-12, -2.11765940e-13])"
     ]
    }
   ],
   "source": [
    "pcd.compute_point_cloud_distance(pcd.get_center())"
   ]
  },
  {
   "cell_type": "code",
   "execution_count": null,
   "metadata": {},
   "outputs": [],
   "source": []
  }
 ],
 "metadata": {
  "interpreter": {
   "hash": "2c75f889e342b1ed19902453eff784f595b1b6912eed911ffd3b864179ac22a9"
  },
  "kernelspec": {
   "display_name": "Python 3.8.10 ('thesis': venv)",
   "language": "python",
   "name": "python3"
  },
  "language_info": {
   "codemirror_mode": {
    "name": "ipython",
    "version": 3
   },
   "file_extension": ".py",
   "mimetype": "text/x-python",
   "name": "python",
   "nbconvert_exporter": "python",
   "pygments_lexer": "ipython3",
   "version": "3.8.10"
  },
  "orig_nbformat": 4
 },
 "nbformat": 4,
 "nbformat_minor": 2
}
