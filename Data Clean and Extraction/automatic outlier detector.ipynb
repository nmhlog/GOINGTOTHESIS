{
 "cells": [
  {
   "cell_type": "code",
   "execution_count": 2,
   "metadata": {},
   "outputs": [
    {
     "name": "stdout",
     "output_type": "stream",
     "text": [
      "Jupyter environment detected. Enabling Open3D WebVisualizer.\n",
      "[Open3D INFO] WebRTC GUI backend enabled.\n",
      "[Open3D INFO] WebRTCWindowSystem: HTTP handshake server disabled.\n"
     ]
    }
   ],
   "source": [
    "from glob import glob\n",
    "import numpy as np\n",
    "import open3d as o3d\n",
    "import tqdm"
   ]
  },
  {
   "cell_type": "code",
   "execution_count": 3,
   "metadata": {},
   "outputs": [],
   "source": [
    "id_class = {'building':0, 'vegetation':1, 'ground':2,'undefined':3}\n",
    "# als_data = glob(\"Dublin_txt/**.txt\")[5:]"
   ]
  },
  {
   "cell_type": "code",
   "execution_count": 5,
   "metadata": {},
   "outputs": [],
   "source": [
    "als_data = [\"Dublin_txt/T_316000_233500_NE_T_316000_233500_SW.txt\",\n",
    "\"Dublin_txt/T_316000_233500_NW.txt\",\n",
    "\"Dublin_txt/T_316000_233500_SE.txt\",\n",
    "\"Dublin_txt/T_316000_234000_NE.txt\",\n",
    "\"Dublin_txt/T_316000_234000_NW.txt\",\n",
    "\"Dublin_txt/T_316000_234000_SE.txt\",\n",
    "\"Dublin_txt/T_316000_234000_SW.txt\",\n",
    "\"Dublin_txt/T_316500_234000_SW_T_316500_233500_NW.txt\"]\n"
   ]
  },
  {
   "cell_type": "code",
   "execution_count": 7,
   "metadata": {},
   "outputs": [],
   "source": [
    "def get_index_global(data,seg_id,index_n_id):\n",
    "    buff = data[np.where(data[:,6]==seg_id)]\n",
    "    return buff[np.hstack(tuple(index_n_id[seg_id][\"Instance Segmentation\"].values())).astype(int)]"
   ]
  },
  {
   "cell_type": "code",
   "execution_count": 8,
   "metadata": {},
   "outputs": [],
   "source": [
    "def outlier_removal_v1(als_data):\n",
    "     for idx,_ in tqdm.tqdm(enumerate(als_data)):\n",
    "          data = np.loadtxt(als_data[idx])\n",
    "          index_n_id = {}\n",
    "          for n_id in id_class.values():\n",
    "               seg_idx = np.where(data[:,6]==n_id)[0]\n",
    "               dict_ins_id = {}\n",
    "               for ins_id_unique in np.unique(data[seg_idx][:,7]):\n",
    "                    # dict_ins_id[ins_id_unique] = np.where(data[seg_idx][:,7]==int(ins_id_unique))[0]\n",
    "                    buff_ins_id_unique = np.where(data[seg_idx][:,7]==int(ins_id_unique))[0]\n",
    "                    buff_data_real = data[buff_ins_id_unique]\n",
    "                    buff_data_real = np.hstack((buff_data_real,buff_ins_id_unique.reshape(len(buff_ins_id_unique),1)))\n",
    "                    pcd = o3d.geometry.PointCloud()\n",
    "                    pcd.points =o3d.utility.Vector3dVector(buff_data_real[:,:3])\n",
    "                    _, ind = pcd.remove_statistical_outlier(nb_neighbors=40,std_ratio=6.0)\n",
    "                    dict_ins_id[ins_id_unique] = buff_data_real[ind][:,-1]\n",
    "               index_n_id[n_id] = {\"Instance Segmentation\":dict_ins_id}\n",
    "\n",
    "          building = get_index_global(data,0,index_n_id)\n",
    "          vegetation = get_index_global(data,1,index_n_id)\n",
    "          ground = get_index_global(data,2,index_n_id)\n",
    "          undefined = get_index_global(data,3,index_n_id)\n",
    "          buff_ = np.vstack((building,vegetation,ground,undefined))\n",
    "          np.savetxt(als_data[idx][:-4]+\"_clean.txt\",buff_,fmt='%.8f %.8f %.8f %d %d %d %d %d')"
   ]
  },
  {
   "cell_type": "code",
   "execution_count": 9,
   "metadata": {},
   "outputs": [
    {
     "name": "stderr",
     "output_type": "stream",
     "text": [
      "8it [1:15:07, 563.38s/it]\n"
     ]
    }
   ],
   "source": [
    "outlier_removal_v1(als_data)"
   ]
  },
  {
   "cell_type": "code",
   "execution_count": 295,
   "metadata": {},
   "outputs": [],
   "source": [
    "# all_count=0\n",
    "# index_per_class = []\n",
    "# for i in index_n_id.keys():\n",
    "#     index_per_class.append(np.hstack(tuple(index_n_id[i][\"Instance Segmentation\"].values())))\n",
    "# all_index= np.hstack(tuple(index_per_class))"
   ]
  },
  {
   "cell_type": "code",
   "execution_count": null,
   "metadata": {},
   "outputs": [],
   "source": []
  },
  {
   "cell_type": "code",
   "execution_count": 297,
   "metadata": {},
   "outputs": [
    {
     "data": {
      "text/plain": [
       "array([0.])"
      ]
     },
     "execution_count": 297,
     "metadata": {},
     "output_type": "execute_result"
    }
   ],
   "source": [
    "np.unique(data[all_index.astype(int)][:,6])"
   ]
  },
  {
   "cell_type": "code",
   "execution_count": 277,
   "metadata": {},
   "outputs": [],
   "source": [
    "# buff_ = data[np.hstack(tuple(index_n_id[0][\"Instance Segmentation\"].values())).astype(int)]\n",
    "buff_ = data[all_index.astype(int)]\n"
   ]
  },
  {
   "cell_type": "code",
   "execution_count": 291,
   "metadata": {},
   "outputs": [
    {
     "data": {
      "text/plain": [
       "(array([ 867377.,  867378.,  867379., ..., 2144132., 2144133., 2144134.]),\n",
       " array([858263., 858264., 858265., ..., 867374., 867375., 867376.]),\n",
       " array([789715., 789716., 789717., ..., 858260., 858261., 858262.]),\n",
       " array([746025., 746026., 746027., ..., 789712., 789713., 789714.]),\n",
       " array([741726., 741727., 741728., ..., 746022., 746023., 746024.]),\n",
       " array([702607., 702608., 702609., ..., 741723., 741724., 741725.]),\n",
       " array([680292., 680293., 680294., ..., 702604., 702605., 702606.]),\n",
       " array([622240., 622241., 622242., ..., 680280., 680281., 680287.]),\n",
       " array([433756., 433757., 433758., ..., 622237., 622238., 622239.]),\n",
       " array([390358., 390359., 390360., ..., 433753., 433754., 433755.]),\n",
       " array([373361., 373362., 373363., ..., 390355., 390356., 390357.]),\n",
       " array([346726., 346727., 346728., ..., 373358., 373359., 373360.]),\n",
       " array([300527., 300528., 300529., ..., 346723., 346724., 346725.]),\n",
       " array([208662., 208663., 208664., ..., 300524., 300525., 300526.]),\n",
       " array([ 51120.,  51121.,  51122., ..., 208659., 208660., 208661.]),\n",
       " array([13356., 13358., 13359., ..., 51117., 51118., 51119.]),\n",
       " array([0.0000e+00, 1.0000e+00, 2.0000e+00, ..., 1.3353e+04, 1.3354e+04,\n",
       "        1.3355e+04]))"
      ]
     },
     "execution_count": 291,
     "metadata": {},
     "output_type": "execute_result"
    }
   ],
   "source": [
    "tuple(index_n_id[1][\"Instance Segmentation\"].values())"
   ]
  },
  {
   "cell_type": "code",
   "execution_count": 266,
   "metadata": {},
   "outputs": [],
   "source": [
    "# np.savetxt(buff_,)\n",
    "# \n",
    "np.savetxt(\"test.txt\",buff_,fmt=\"%1.9f %1.9f %1.9f %d %d %d %d %d\")\n",
    "# np.savetxt(,,fmt='%.8f %.8f %.8f %d %d %d')"
   ]
  },
  {
   "cell_type": "code",
   "execution_count": 146,
   "metadata": {},
   "outputs": [
    {
     "data": {
      "text/plain": [
       "array([6843116., 6843117., 6843118., ..., 7051939., 7051940., 7051941.])"
      ]
     },
     "execution_count": 146,
     "metadata": {},
     "output_type": "execute_result"
    }
   ],
   "source": [
    "buff_idx = index_n_id[0][\"Instance Segmentation\"][0] #0[1] = seg id; 0[2] = instance id\n",
    "buff_data_real = data[buff_idx]\n",
    "buff_data_real = np.hstack((data_real,buff_idx.reshape(len(buff_idx),1)))\n",
    "\n",
    "pcd = o3d.geometry.PointCloud()\n",
    "pcd.points =o3d.utility.Vector3dVector(buff_data_real[:,:3])\n",
    "_, ind = pcd.remove_statistical_outlier(nb_neighbors=40,std_ratio=6.0)\n",
    "index_n_id[0][\"Instance Segmentation\"][0] = buff_data_real[ind][:,-1]"
   ]
  },
  {
   "cell_type": "code",
   "execution_count": 270,
   "metadata": {},
   "outputs": [
    {
     "data": {
      "text/plain": [
       "array([0.])"
      ]
     },
     "execution_count": 270,
     "metadata": {},
     "output_type": "execute_result"
    }
   ],
   "source": [
    "np.unique(buff_[:,6])"
   ]
  },
  {
   "cell_type": "code",
   "execution_count": 126,
   "metadata": {},
   "outputs": [],
   "source": [
    "def display_inlier_outlier(cloud, ind):\n",
    "    inlier_cloud = cloud.select_by_index(ind)\n",
    "    outlier_cloud = cloud.select_by_index(ind, invert=True)\n",
    "\n",
    "    print(\"Showing outliers (red) and inliers (gray): \")\n",
    "    outlier_cloud.paint_uniform_color([1, 0, 0])\n",
    "    inlier_cloud.paint_uniform_color([0, 0, 0])\n",
    "    o3d.visualization.draw_geometries([inlier_cloud, outlier_cloud])"
   ]
  },
  {
   "cell_type": "code",
   "execution_count": 127,
   "metadata": {},
   "outputs": [
    {
     "name": "stdout",
     "output_type": "stream",
     "text": [
      "Showing outliers (red) and inliers (gray): \n"
     ]
    }
   ],
   "source": [
    "display_inlier_outlier(pcd, ind)"
   ]
  },
  {
   "cell_type": "code",
   "execution_count": 133,
   "metadata": {},
   "outputs": [
    {
     "data": {
      "text/plain": [
       "array([[3.15971981e+05, 2.34187818e+05, 1.38839998e+01],\n",
       "       [3.15971980e+05, 2.34187657e+05, 1.54469995e+01],\n",
       "       [3.15971986e+05, 2.34187660e+05, 1.41669998e+01],\n",
       "       ...,\n",
       "       [3.15962717e+05, 2.34181194e+05, 1.69120007e+01],\n",
       "       [3.15963408e+05, 2.34181097e+05, 1.88750000e+01],\n",
       "       [3.15964514e+05, 2.34181486e+05, 1.87439995e+01]])"
      ]
     },
     "execution_count": 133,
     "metadata": {},
     "output_type": "execute_result"
    }
   ],
   "source": [
    "np.array(pcd.points)[ind] "
   ]
  },
  {
   "cell_type": "code",
   "execution_count": null,
   "metadata": {},
   "outputs": [],
   "source": []
  }
 ],
 "metadata": {
  "interpreter": {
   "hash": "b68c9d604231405e24db3e0299aec7dc72663353f409b28098a9f43a48b995aa"
  },
  "kernelspec": {
   "display_name": "Python 3.8.10 ('thesis': venv)",
   "language": "python",
   "name": "python3"
  },
  "language_info": {
   "codemirror_mode": {
    "name": "ipython",
    "version": 3
   },
   "file_extension": ".py",
   "mimetype": "text/x-python",
   "name": "python",
   "nbconvert_exporter": "python",
   "pygments_lexer": "ipython3",
   "version": "3.8.10"
  },
  "orig_nbformat": 4
 },
 "nbformat": 4,
 "nbformat_minor": 2
}
