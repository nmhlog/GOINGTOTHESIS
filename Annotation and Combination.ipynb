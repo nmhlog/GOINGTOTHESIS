{
 "cells": [
  {
   "cell_type": "code",
   "execution_count": 13,
   "metadata": {},
   "outputs": [],
   "source": [
    "import numpy as np\n",
    "import glob\n",
    "import json\n",
    "import os\n",
    "from tqdm import tqdm\n",
    "import shutil"
   ]
  },
  {
   "cell_type": "code",
   "execution_count": 56,
   "metadata": {},
   "outputs": [],
   "source": [
    "def read_txt(path_file):\n",
    "    try:\n",
    "        data = np.loadtxt(path_file,delimiter=\",\")\n",
    "    except:\n",
    "        data = np.loadtxt(path_file)\n",
    "    return data \n",
    "\n",
    "def split_name_file(file_data):\n",
    "    class_name,ins_id = file_data.split(\"/\")[-1].split(\"_\")\n",
    "    return class_name,ins_id[:-4]\n",
    "\n",
    "def create_array_class_ins_id(data_row_dim,class_name,ins_id):\n",
    "    class_ins_id = np.zeros((data_row_dim,2))\n",
    "    class_ins_id[:,0].fill(id_class[class_name])\n",
    "    class_ins_id[:,1].fill(int(ins_id))\n",
    "    return class_ins_id\n",
    "\n",
    "def read_data_class_ins_id(file_data):\n",
    "    data = read_txt(file_data)[:,:6]\n",
    "    class_name,ins_id= split_name_file(file_data)\n",
    "    data = np.hstack((data,\\\n",
    "        create_array_class_ins_id(data.shape[0],class_name,ins_id)))\n",
    "    return data"
   ]
  },
  {
   "cell_type": "code",
   "execution_count": 30,
   "metadata": {},
   "outputs": [],
   "source": [
    "id_class = {'building':0, 'vegetation':1, 'ground':2,'undefined':3}\n",
    "folder_dataset_clean = \"Dataset_clean\"\n",
    "\n"
   ]
  },
  {
   "cell_type": "code",
   "execution_count": 4,
   "metadata": {},
   "outputs": [
    {
     "data": {
      "text/plain": [
       "['Dataset_clean/T_315500_233500_NE_T_315500_234000_SE/T_315500_233500_NE_T_315500_234000_SE.json.json',\n",
       " 'Dataset_clean/T_315500_234500_NE/T_315500_234500_NE.json.json',\n",
       " 'Dataset_clean/T_315500_234500_NW/T_315500_234500_NW.json.json',\n",
       " 'Dataset_clean/T_315500_234500_SE/T_315500_234500_SE.json.json',\n",
       " 'Dataset_clean/T_315500_234500_SW/T_315500_234500_SW.json.json',\n",
       " 'Dataset_clean/T_316000_233500_NE_T_316000_233500_SW/T_316000_233500_NE_T_316000_233500_SW.json.json',\n",
       " 'Dataset_clean/T_316000_233500_NW/T_316000_233500_NW.json.json',\n",
       " 'Dataset_clean/T_316000_233500_SE/T_316000_233500_SE.json.json',\n",
       " 'Dataset_clean/T_316000_234000_NE/T_316000_234000_NE.json.json',\n",
       " 'Dataset_clean/T_316000_234000_NW/T_316000_234000_NW.json.json',\n",
       " 'Dataset_clean/T_316000_234000_SE/T_316000_234000_SE.json.json',\n",
       " 'Dataset_clean/T_316000_234000_SW/T_316000_234000_SW.json.json',\n",
       " 'Dataset_clean/T_316500_234000_SW_T_316500_233500_NW/T_316500_234000_SW_T_316500_233500_NW.json.json']"
      ]
     },
     "execution_count": 4,
     "metadata": {},
     "output_type": "execute_result"
    }
   ],
   "source": [
    "glob.glob(\"Dataset_clean/**/**.json\")"
   ]
  },
  {
   "cell_type": "code",
   "execution_count": 20,
   "metadata": {},
   "outputs": [
    {
     "ename": "NameError",
     "evalue": "name 'Dataset_clean' is not defined",
     "output_type": "error",
     "traceback": [
      "\u001b[0;31m---------------------------------------------------------------------------\u001b[0m",
      "\u001b[0;31mNameError\u001b[0m                                 Traceback (most recent call last)",
      "\u001b[1;32m/media/nmhlog/Naufal Disk/Thesis Experiment/GOINGTOTHESIS/Annotation and Combination.ipynb Cell 5'\u001b[0m in \u001b[0;36m<cell line: 1>\u001b[0;34m()\u001b[0m\n\u001b[1;32m      <a href='vscode-notebook-cell:/media/nmhlog/Naufal%20Disk/Thesis%20Experiment/GOINGTOTHESIS/Annotation%20and%20Combination.ipynb#ch0000004?line=0'>1</a>\u001b[0m shutil\u001b[39m.\u001b[39mcopyfile(\u001b[39m\"\u001b[39m\u001b[39mDataset_clean/T_315500_233500_NE_T_315500_234000_SE/T_315500_233500_NE_T_315500_234000_SE.json.json\u001b[39m\u001b[39m\"\u001b[39m,\\\n\u001b[0;32m----> <a href='vscode-notebook-cell:/media/nmhlog/Naufal%20Disk/Thesis%20Experiment/GOINGTOTHESIS/Annotation%20and%20Combination.ipynb#ch0000004?line=1'>2</a>\u001b[0m     \u001b[39mf\u001b[39m\u001b[39m\"\u001b[39m\u001b[39m{\u001b[39;00mDataset_clean\u001b[39m}\u001b[39;00m\u001b[39m/\u001b[39m\u001b[39m{\u001b[39;00mfile_name\u001b[39m}\u001b[39;00m\u001b[39m\"\u001b[39m)\n",
      "\u001b[0;31mNameError\u001b[0m: name 'Dataset_clean' is not defined"
     ]
    }
   ],
   "source": [
    "shutil.copyfile(\"Dataset_clean/T_315500_233500_NE_T_315500_234000_SE/T_315500_233500_NE_T_315500_234000_SE.json.json\",\\\n",
    "    f\"{Dataset_clean}/{file_name}\")"
   ]
  },
  {
   "cell_type": "code",
   "execution_count": 22,
   "metadata": {},
   "outputs": [
    {
     "name": "stdout",
     "output_type": "stream",
     "text": [
      "Dataset_clean/T_315500_233500_NE_T_315500_234000_SE/T_315500_233500_NE_T_315500_234000_SE.json.json\n",
      "Dataset_clean/T_315500_234500_NE/T_315500_234500_NE.json.json\n",
      "Dataset_clean/T_315500_234500_NW/T_315500_234500_NW.json.json\n",
      "Dataset_clean/T_315500_234500_SE/T_315500_234500_SE.json.json\n",
      "Dataset_clean/T_315500_234500_SW/T_315500_234500_SW.json.json\n",
      "Dataset_clean/T_316000_233500_NE_T_316000_233500_SW/T_316000_233500_NE_T_316000_233500_SW.json.json\n",
      "Dataset_clean/T_316000_233500_NW/T_316000_233500_NW.json.json\n",
      "Dataset_clean/T_316000_233500_SE/T_316000_233500_SE.json.json\n",
      "Dataset_clean/T_316000_234000_NE/T_316000_234000_NE.json.json\n",
      "Dataset_clean/T_316000_234000_NW/T_316000_234000_NW.json.json\n",
      "Dataset_clean/T_316000_234000_SE/T_316000_234000_SE.json.json\n",
      "Dataset_clean/T_316000_234000_SW/T_316000_234000_SW.json.json\n",
      "Dataset_clean/T_316500_234000_SW_T_316500_233500_NW/T_316500_234000_SW_T_316500_233500_NW.json.json\n"
     ]
    }
   ],
   "source": [
    "os.makedirs(\"Dublin_combine_clean\",exist_ok=True)\n",
    "for i in glob.glob(\"Dataset_clean/**/**.json\"):\n",
    "    file_name = i.split(\"/\")[-1][:-5]\n",
    "    print(i)\n",
    "    shutil.copyfile(src=i,dst=f\"Dublin_combine_clean/{file_name}\")"
   ]
  },
  {
   "cell_type": "code",
   "execution_count": 17,
   "metadata": {},
   "outputs": [
    {
     "data": {
      "text/plain": [
       "'Dataset_clean/T_315500_233500_NE_T_315500_234000_SE/T_315500_233500_NE_T_315500_234000_SE.json.json'"
      ]
     },
     "execution_count": 17,
     "metadata": {},
     "output_type": "execute_result"
    }
   ],
   "source": [
    "i"
   ]
  },
  {
   "cell_type": "code",
   "execution_count": null,
   "metadata": {},
   "outputs": [],
   "source": []
  }
 ],
 "metadata": {
  "interpreter": {
   "hash": "eaca4c1f0949c3043f515decfd49ee81e7d71c37414533a068602b64abe88e46"
  },
  "kernelspec": {
   "display_name": "Python 3.8.10 ('thesis': venv)",
   "language": "python",
   "name": "python3"
  },
  "language_info": {
   "codemirror_mode": {
    "name": "ipython",
    "version": 3
   },
   "file_extension": ".py",
   "mimetype": "text/x-python",
   "name": "python",
   "nbconvert_exporter": "python",
   "pygments_lexer": "ipython3",
   "version": "3.8.10"
  },
  "orig_nbformat": 4
 },
 "nbformat": 4,
 "nbformat_minor": 2
}
