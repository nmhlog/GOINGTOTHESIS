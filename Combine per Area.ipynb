{
 "cells": [
  {
   "cell_type": "code",
   "execution_count": 1,
   "metadata": {},
   "outputs": [],
   "source": [
    "import numpy as np\n",
    "import h5py\n",
    "from glob import glob\n",
    "from data_understanding import save_meta_data,read_meta_data\n",
    "from tqdm import tqdm"
   ]
  },
  {
   "cell_type": "code",
   "execution_count": 2,
   "metadata": {},
   "outputs": [],
   "source": [
    "id_class = {'building':0, 'vegetation':1, 'ground':2,'undefined':3}"
   ]
  },
  {
   "cell_type": "code",
   "execution_count": 3,
   "metadata": {},
   "outputs": [],
   "source": [
    "metadata_json = glob(\"T**.json\")"
   ]
  },
  {
   "cell_type": "code",
   "execution_count": 5,
   "metadata": {},
   "outputs": [],
   "source": [
    "def append_xyz_rgb_class_ins_id(new_data,old_data):\n",
    "    xyz = np.append(old_data[0],new_data[0],axis=0)\n",
    "    rgb = np.append(old_data[1],new_data[1],axis=0)\n",
    "    class_id = np.append(old_data[2],new_data[2])\n",
    "    ins_id = np.append(old_data[3],new_data[3])\n",
    "    return xyz,rgb,class_id,ins_id\n"
   ]
  },
  {
   "cell_type": "code",
   "execution_count": 6,
   "metadata": {},
   "outputs": [],
   "source": [
    "def read_xyz_rgb_class_ins_id(class_,inst_ids_keys,index,metadata,path,new_data=None):\n",
    "    if class_ == \"building\":\n",
    "        xyz_rgb = np.loadtxt(metadata[class_][inst_ids_keys[index]][path])\n",
    "    else: \n",
    "        xyz_rgb = np.loadtxt(f\"Dataset/{metadata[class_][inst_ids_keys[index]][path]}\")\n",
    "    vec_size = xyz_rgb.shape[0]\n",
    "    ins_id = np.zeros(vec_size,dtype=\"uint16\")\n",
    "    ins_id.fill(int(inst_ids_keys[index])) \n",
    "    class_id= np.zeros(vec_size,dtype=\"uint16\")\n",
    "    class_id.fill(int(id_class[class_]))\n",
    "    if new_data:\n",
    "        return append_xyz_rgb_class_ins_id(new_data,[xyz_rgb[:,:3],xyz_rgb[:,3:6].astype(\"int\"),class_id,ins_id])\n",
    "    return [xyz_rgb[:,:3],xyz_rgb[:,3:6].astype(\"int\"),class_id.reshape(ins_id.shape[0],1),ins_id.reshape(ins_id.shape[0],1)]\n",
    "\n"
   ]
  },
  {
   "cell_type": "code",
   "execution_count": 7,
   "metadata": {},
   "outputs": [],
   "source": [
    "def combine_all_class_to_area(building,vegetation,ground,undefined):\n",
    "    return [np.vstack((building[0],vegetation[0],ground[0],undefined[0])),\\\n",
    "    np.vstack((building[1],vegetation[1],ground[1],undefined[1])),\\\n",
    "    np.vstack((\n",
    "        np.array(building[2]).reshape(len(building[2]),1),\n",
    "        np.array(vegetation[2]).reshape(len(vegetation[2]),1),\n",
    "        np.array(ground[2]).reshape(len(ground[2]),1),\n",
    "        np.array(undefined[2]).reshape(len(undefined[2]),1))),\n",
    "    np.vstack((\n",
    "        np.array(building[3]).reshape(len(building[3]),1),\n",
    "        np.array(vegetation[3]).reshape(len(vegetation[3]),1),\n",
    "        np.array(ground[3]).reshape(len(ground[3]),1),\n",
    "        np.array(undefined[3]).reshape(len(undefined[3]),1)\n",
    "        ))]"
   ]
  },
  {
   "cell_type": "code",
   "execution_count": 9,
   "metadata": {},
   "outputs": [
    {
     "name": "stderr",
     "output_type": "stream",
     "text": [
      "  0%|          | 0/13 [00:00<?, ?it/s]"
     ]
    }
   ],
   "source": [
    "for area in tqdm(metadata_json):\n",
    "    metadata = read_meta_data(area)\n",
    "    for class_ in metadata.keys():\n",
    "        # print(class_)\n",
    "        if class_ == \"building\" :\n",
    "            # continue\n",
    "            inst_ids_keys = list(metadata[class_].keys())\n",
    "            buff_data =  read_xyz_rgb_class_ins_id(class_=\"building\",path=\"path\",inst_ids_keys=inst_ids_keys,index=0,metadata=metadata)\n",
    "            for idx in range(1,len(inst_ids_keys)):\n",
    "                buff_data = read_xyz_rgb_class_ins_id(class_=\"building\",path=\"path\",inst_ids_keys=inst_ids_keys,index=idx,metadata=metadata,new_data=buff_data)\n",
    "            building=buff_data\n",
    "        if class_ == \"vegetation\" :\n",
    "            # continue\n",
    "            inst_ids_keys = list(metadata[class_].keys())\n",
    "            buff_data =  read_xyz_rgb_class_ins_id(class_=\"vegetation\",path=\"path\",inst_ids_keys=inst_ids_keys,index=0,metadata=metadata)\n",
    "            try:\n",
    "                for idx in range(1,len(inst_ids_keys)):\n",
    "                    buff_data = read_xyz_rgb_class_ins_id(class_=\"vegetation\",path=\"path\",inst_ids_keys=inst_ids_keys,index=idx,metadata=metadata,new_data=buff_data)\n",
    "            except:\n",
    "                pass\n",
    "            vegetation=buff_data\n",
    "        if class_ == \"ground\" :\n",
    "            # continue\n",
    "            inst_ids_keys = list(metadata[class_].keys())\n",
    "            buff_data =  read_xyz_rgb_class_ins_id(class_=\"ground\",path=\"path\",inst_ids_keys=inst_ids_keys,index=0,metadata=metadata)\n",
    "            try:\n",
    "                for idx in range(1,len(inst_ids_keys)):\n",
    "                    buff_data = read_xyz_rgb_class_ins_id(class_=\"ground\",path=\"path\",inst_ids_keys=inst_ids_keys,index=idx,metadata=metadata,new_data=buff_data)\n",
    "            except:\n",
    "                pass\n",
    "            ground=buff_data\n",
    "        if class_ == \"undefined\":\n",
    "            # continue\n",
    "            inst_ids_keys = list(metadata[class_].keys())\n",
    "            buff_data =  read_xyz_rgb_class_ins_id(class_=\"undefined\",path=\"path\",inst_ids_keys=inst_ids_keys,index=0,metadata=metadata)\n",
    "            try:\n",
    "                for idx in range(1,len(inst_ids_keys)):\n",
    "                    buff_data = read_xyz_rgb_class_ins_id(class_=\"undefined\",path=\"path\",inst_ids_keys=inst_ids_keys,index=idx,metadata=metadata,new_data=buff_data)\n",
    "            except:\n",
    "                pass\n",
    "            undefined=buff_data\n",
    "    xyz,rgb,class_id,ins_id= combine_all_class_to_area(building,vegetation,ground,undefined)\n",
    "    buff = np.hstack((xyz,rgb,class_id.reshape((class_id.shape[0], 1)),ins_id.reshape((class_id.shape[0], 1))))\n",
    "    np.savetxt(f\"{area[:-5]}.txt\",buff,fmt=\"%1.9f %1.9f %1.9f %d %d %d %d %d\")\n",
    "    f = h5py.File(f\"{area[:-5]}.h5\", 'w')\n",
    "    f.create_dataset('xyz', data=xyz)\n",
    "    f.create_dataset('colour', data=rgb)\n",
    "    f.create_dataset('class_id', data=class_id)\n",
    "    f.create_dataset('ins_id', data=ins_id)\n",
    "    f.close()\n"
   ]
  }
 ],
 "metadata": {
  "interpreter": {
   "hash": "e7370f93d1d0cde622a1f8e1c04877d8463912d04d973331ad4851f04de6915a"
  },
  "kernelspec": {
   "display_name": "Python 3.8.10 64-bit",
   "language": "python",
   "name": "python3"
  },
  "language_info": {
   "codemirror_mode": {
    "name": "ipython",
    "version": 3
   },
   "file_extension": ".py",
   "mimetype": "text/x-python",
   "name": "python",
   "nbconvert_exporter": "python",
   "pygments_lexer": "ipython3",
   "version": "3.8.10"
  },
  "orig_nbformat": 4
 },
 "nbformat": 4,
 "nbformat_minor": 2
}
