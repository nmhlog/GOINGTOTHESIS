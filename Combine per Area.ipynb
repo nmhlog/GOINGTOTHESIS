{
 "cells": [
  {
   "cell_type": "code",
   "execution_count": 1,
   "metadata": {},
   "outputs": [],
   "source": [
    "import numpy as np\n",
    "import h5py\n",
    "from glob import glob\n",
    "from data_understanding import save_meta_data,read_meta_data\n",
    "from tqdm import tqdm"
   ]
  },
  {
   "cell_type": "code",
   "execution_count": 2,
   "metadata": {},
   "outputs": [],
   "source": [
    "id_class = {'building':0, 'vegetation':1, 'ground':2}"
   ]
  },
  {
   "cell_type": "code",
   "execution_count": 3,
   "metadata": {},
   "outputs": [],
   "source": [
    "metadata_json = [glob(\"T**.json\")[5]]"
   ]
  },
  {
   "cell_type": "code",
   "execution_count": 4,
   "metadata": {},
   "outputs": [],
   "source": [
    "def append_xyz_rgb_class_ins_id(new_data,old_data):\n",
    "    xyz = np.append(old_data[0],new_data[0],axis=0)\n",
    "    rgb = np.append(old_data[1],new_data[1],axis=0)\n",
    "    class_id = np.append(old_data[2],new_data[2])\n",
    "    ins_id = np.append(old_data[3],new_data[3])\n",
    "    return xyz,rgb,class_id,ins_id\n"
   ]
  },
  {
   "cell_type": "code",
   "execution_count": 5,
   "metadata": {},
   "outputs": [],
   "source": [
    "def read_xyz_rgb_class_ins_id(class_,inst_ids_keys,index,metadata,path,new_data=None):\n",
    "    if class_ == \"building\":\n",
    "        xyz_rgb = np.load(metadata[class_][inst_ids_keys[index]][path],allow_pickle=True)\n",
    "    else: \n",
    "        xyz_rgb = np.loadtxt(f\"Dataset/{metadata[class_][inst_ids_keys[index]][path]}\")\n",
    "    vec_size = xyz_rgb.shape[0]\n",
    "    ins_id = np.zeros(vec_size,dtype=\"uint16\")\n",
    "    ins_id.fill(int(inst_ids_keys[index])) \n",
    "    class_id= np.zeros(vec_size,dtype=\"uint16\")\n",
    "    class_id.fill(int(id_class[class_]))\n",
    "    if new_data:\n",
    "        return append_xyz_rgb_class_ins_id(new_data,[xyz_rgb[:,:3],xyz_rgb[:,3:6].astype(\"int\"),class_id,ins_id])\n",
    "    return [xyz_rgb[:,:3],xyz_rgb[:,3:6].astype(\"int\"),class_id,ins_id]\n",
    "\n"
   ]
  },
  {
   "cell_type": "code",
   "execution_count": 6,
   "metadata": {},
   "outputs": [],
   "source": [
    "def data_combine_all_class_to_area(building,vegetation,ground,axis=0):\n",
    "    buff = np.append(building,vegetation,axis=axis)\n",
    "    buff = np.append(buff,ground,axis=axis)\n",
    "    # buff = np.append(buff,undefined,axis=axis)\n",
    "    return buff\n",
    "def combine_all_class_to_area(building,vegetation,ground):\n",
    "    return [data_combine_all_class_to_area(building[0],vegetation[0],ground[0],axis=0),\n",
    "        data_combine_all_class_to_area(building[1],vegetation[1],ground[1],axis=0),\n",
    "        data_combine_all_class_to_area(building[2],vegetation[2],ground[2],axis=None),\n",
    "        data_combine_all_class_to_area(building[3],vegetation[3],ground[3],axis=None)]\n",
    "\n"
   ]
  },
  {
   "cell_type": "code",
   "execution_count": 7,
   "metadata": {},
   "outputs": [
    {
     "name": "stderr",
     "output_type": "stream",
     "text": [
      "100%|██████████| 1/1 [08:42<00:00, 522.70s/it]\n"
     ]
    }
   ],
   "source": [
    "for area in tqdm([\"T_316000_233500_NE_T_316000_233500_SW.json\"]):\n",
    "    metadata = read_meta_data(area)\n",
    "    for class_ in metadata.keys():\n",
    "        # print(class_)\n",
    "        if class_ == \"building\" :\n",
    "            # continue\n",
    "            inst_ids_keys = list(metadata[class_].keys())\n",
    "            buff_data =  read_xyz_rgb_class_ins_id(class_=\"building\",path=\"path_all_data\",inst_ids_keys=inst_ids_keys,index=0,metadata=metadata)\n",
    "            for idx in range(1,len(inst_ids_keys)):\n",
    "                buff_data = read_xyz_rgb_class_ins_id(class_=\"building\",path=\"path_all_data\",inst_ids_keys=inst_ids_keys,index=idx,metadata=metadata,new_data=buff_data)\n",
    "            building=buff_data\n",
    "        if class_ == \"vegetation\" :\n",
    "            # continue\n",
    "            inst_ids_keys = list(metadata[class_].keys())\n",
    "            buff_data =  read_xyz_rgb_class_ins_id(class_=\"vegetation\",path=\"path\",inst_ids_keys=inst_ids_keys,index=0,metadata=metadata)\n",
    "            try:\n",
    "                for idx in range(1,len(inst_ids_keys)):\n",
    "                    buff_data = read_xyz_rgb_class_ins_id(class_=\"vegetation\",path=\"path\",inst_ids_keys=inst_ids_keys,index=idx,metadata=metadata,new_data=buff_data)\n",
    "            except:\n",
    "                pass\n",
    "            vegetation=buff_data\n",
    "        if class_ == \"ground\" :\n",
    "            # continue\n",
    "            inst_ids_keys = list(metadata[class_].keys())\n",
    "            buff_data =  read_xyz_rgb_class_ins_id(class_=\"ground\",path=\"path\",inst_ids_keys=inst_ids_keys,index=0,metadata=metadata)\n",
    "            try:\n",
    "                for idx in range(1,len(inst_ids_keys)):\n",
    "                    buff_data = read_xyz_rgb_class_ins_id(class_=\"ground\",path=\"path\",inst_ids_keys=inst_ids_keys,index=idx,metadata=metadata,new_data=buff_data)\n",
    "            except:\n",
    "                pass\n",
    "            ground=buff_data\n",
    "        # if class_ == \"undefined\":\n",
    "        #     # continue\n",
    "        #     inst_ids_keys = list(metadata[class_].keys())\n",
    "        #     buff_data =  read_xyz_rgb_class_ins_id(class_=\"undefined\",path=\"path\",inst_ids_keys=inst_ids_keys,index=0,metadata=metadata)\n",
    "        #     try:\n",
    "        #         for idx in range(1,len(inst_ids_keys)):\n",
    "        #             buff_data = read_xyz_rgb_class_ins_id(class_=\"undefined\",path=\"path\",inst_ids_keys=inst_ids_keys,index=idx,metadata=metadata,new_data=buff_data)\n",
    "        #     except:\n",
    "        #         pass\n",
    "        #     undefined=buff_data\n",
    "    xyz,rgb,class_id,ins_id= combine_all_class_to_area(building,vegetation,ground)\n",
    "    test_all = np.append(xyz,rgb, axis=1)\n",
    "    np.savetxt(f\"{area[:-5]}.txt\",test_all,fmt=\"%1.9f %1.9f %1.9f %d %d %d\")\n",
    "    f = h5py.File(f\"{area[:-5]}.h5\", 'w')\n",
    "    f.create_dataset('xyz', data=xyz)\n",
    "    f.create_dataset('colour', data=rgb)\n",
    "    f.create_dataset('class_id', data=class_id)\n",
    "    f.create_dataset('ins_id', data=ins_id)\n",
    "    f.close()\n"
   ]
  },
  {
   "cell_type": "code",
   "execution_count": 4,
   "metadata": {},
   "outputs": [],
   "source": [
    "check_key = read_meta_data(\"meta_data.json\")"
   ]
  },
  {
   "cell_type": "code",
   "execution_count": 26,
   "metadata": {},
   "outputs": [],
   "source": [
    "data = []\n",
    "for i in  check_key.keys() :\n",
    "    if \"building\" in i:\n",
    "        data.append(i)"
   ]
  },
  {
   "cell_type": "code",
   "execution_count": 27,
   "metadata": {},
   "outputs": [],
   "source": [
    "data = [d.split(\"_\")[1] for d in data]\n"
   ]
  },
  {
   "cell_type": "code",
   "execution_count": 32,
   "metadata": {},
   "outputs": [
    {
     "data": {
      "text/plain": [
       "194"
      ]
     },
     "execution_count": 32,
     "metadata": {},
     "output_type": "execute_result"
    }
   ],
   "source": [
    "len(np.unique(np.array(data,dtype=\"int\")))"
   ]
  },
  {
   "cell_type": "code",
   "execution_count": 3,
   "metadata": {},
   "outputs": [],
   "source": [
    "data = glob(\"Test/T_316000_233500_NE_T_316000_233500_SW/building**.txt\")"
   ]
  },
  {
   "cell_type": "code",
   "execution_count": 9,
   "metadata": {},
   "outputs": [
    {
     "ename": "IndexError",
     "evalue": "tuple index out of range",
     "output_type": "error",
     "traceback": [
      "\u001b[0;31m---------------------------------------------------------------------------\u001b[0m",
      "\u001b[0;31mIndexError\u001b[0m                                Traceback (most recent call last)",
      "\u001b[1;32m/media/nmhlog/BackUp Windows/GOINGTOTHESIS/Combine per Area.ipynb Cell 13'\u001b[0m in \u001b[0;36m<cell line: 1>\u001b[0;34m()\u001b[0m\n\u001b[0;32m----> <a href='vscode-notebook-cell:/media/nmhlog/BackUp%20Windows/GOINGTOTHESIS/Combine%20per%20Area.ipynb#ch0000016?line=0'>1</a>\u001b[0m np\u001b[39m.\u001b[39mloadtxt(i)\u001b[39m.\u001b[39mshape[\u001b[39m1\u001b[39m]\n",
      "\u001b[0;31mIndexError\u001b[0m: tuple index out of range"
     ]
    }
   ],
   "source": [
    "np.loadtxt(i).shape[1]"
   ]
  },
  {
   "cell_type": "code",
   "execution_count": 8,
   "metadata": {},
   "outputs": [
    {
     "data": {
      "text/plain": [
       "(3119919, 6)"
      ]
     },
     "execution_count": 8,
     "metadata": {},
     "output_type": "execute_result"
    }
   ],
   "source": [
    "buff.shape"
   ]
  },
  {
   "cell_type": "code",
   "execution_count": 37,
   "metadata": {},
   "outputs": [],
   "source": [
    "buff = np.loadtxt(data[0])[:,:6]\n",
    "for i in data[1:]:\n",
    "    try:\n",
    "        buff_data = np.loadtxt(i)[:,:6]\n",
    "        buff = np.append(buff,buff_data,axis=0)\n",
    "    except:\n",
    "        test_buff = np.zeros((buff.shape[0]+1,6))\n",
    "        buff_data = np.loadtxt(i)[:6]\n",
    "        test_buff[:buff.shape[0]] = buff\n",
    "        test_buff[-1] = buff_data\n",
    "        buff=test_buff.copy()\n",
    "\n"
   ]
  },
  {
   "cell_type": "code",
   "execution_count": 40,
   "metadata": {},
   "outputs": [],
   "source": [
    "np.savetxt(\"test.txt\",buff,fmt=\"%1.9f %1.9f %1.9f %d %d %d\")"
   ]
  },
  {
   "cell_type": "code",
   "execution_count": 44,
   "metadata": {},
   "outputs": [
    {
     "name": "stdout",
     "output_type": "stream",
     "text": [
      "/media/nmhlog/BackUp Windows/GOINGTOTHESIS\n"
     ]
    }
   ],
   "source": [
    "!pwd"
   ]
  },
  {
   "cell_type": "code",
   "execution_count": 42,
   "metadata": {},
   "outputs": [
    {
     "data": {
      "text/plain": [
       "[]"
      ]
     },
     "execution_count": 42,
     "metadata": {},
     "output_type": "execute_result"
    }
   ],
   "source": [
    "glob(\"text**\")"
   ]
  },
  {
   "cell_type": "code",
   "execution_count": 31,
   "metadata": {},
   "outputs": [
    {
     "data": {
      "text/plain": [
       "array([0., 0., 0., 0., 0., 0.])"
      ]
     },
     "execution_count": 31,
     "metadata": {},
     "output_type": "execute_result"
    }
   ],
   "source": [
    "test_buff[-1]"
   ]
  },
  {
   "cell_type": "code",
   "execution_count": null,
   "metadata": {},
   "outputs": [],
   "source": []
  }
 ],
 "metadata": {
  "interpreter": {
   "hash": "e7370f93d1d0cde622a1f8e1c04877d8463912d04d973331ad4851f04de6915a"
  },
  "kernelspec": {
   "display_name": "Python 3.8.10 64-bit",
   "language": "python",
   "name": "python3"
  },
  "language_info": {
   "codemirror_mode": {
    "name": "ipython",
    "version": 3
   },
   "file_extension": ".py",
   "mimetype": "text/x-python",
   "name": "python",
   "nbconvert_exporter": "python",
   "pygments_lexer": "ipython3",
   "version": "3.8.10"
  },
  "orig_nbformat": 4
 },
 "nbformat": 4,
 "nbformat_minor": 2
}
